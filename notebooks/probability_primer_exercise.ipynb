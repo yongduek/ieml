{
 "cells": [
  {
   "cell_type": "markdown",
   "metadata": {},
   "source": [
    "# Computational Probability Theory\n",
    "\n",
    "- Basic concepts of probability models needs to be revised to solve the problems below.\n",
    "- Ask google.com, wikipedia.org, or any other helpful source to derive the correct answers\n",
    "- Due: Oct. 14 Monday, 2019"
   ]
  },
  {
   "cell_type": "markdown",
   "metadata": {},
   "source": [
    "You need to use `scipy` package to solve the problems. Install `scipy` if you don't have it installed in your computer by\n",
    "```\n",
    "pip3 install scipy\n",
    "```"
   ]
  },
  {
   "cell_type": "code",
   "execution_count": 1,
   "metadata": {},
   "outputs": [
    {
     "name": "stdout",
     "output_type": "stream",
     "text": [
      "1.3.1\n"
     ]
    }
   ],
   "source": [
    "import scipy\n",
    "print (scipy.__version__)"
   ]
  },
  {
   "cell_type": "code",
   "execution_count": 2,
   "metadata": {},
   "outputs": [
    {
     "name": "stdout",
     "output_type": "stream",
     "text": [
      "1.17.2\n"
     ]
    }
   ],
   "source": [
    "import numpy as np\n",
    "print (np.__version__)"
   ]
  },
  {
   "cell_type": "markdown",
   "metadata": {},
   "source": [
    "### We use sub-moduels `scipy.stats` and `scipy.special` as given below."
   ]
  },
  {
   "cell_type": "code",
   "execution_count": 3,
   "metadata": {},
   "outputs": [],
   "source": [
    "import scipy.stats\n",
    "import scipy.special"
   ]
  },
  {
   "cell_type": "markdown",
   "metadata": {},
   "source": [
    "## Normal distribution\n",
    "The function `scipy.stats.norm.cdf(a)` gives the probability $Prob[X<a]$ for the standard normal distribution.\n",
    "$$\n",
    "    Prob[X < a] = \\int_{-\\infty}^{a} p(x) dx\n",
    "$$\n",
    "where $p(x)$ is the pdf of the standard normal distribution ($m=0$, $\\sigma=1$)\n",
    "$$\n",
    "    p(x) = \\frac{1}{\\sigma\\sqrt{2\\pi}} \\exp\\bigg\\{ -\\frac{1}{2}\\frac{(x-m)^2}{\\sigma^2}  \\bigg\\}\n",
    "$$"
   ]
  },
  {
   "cell_type": "markdown",
   "metadata": {},
   "source": [
    "For example, $Prob[X < 0]$ for the standard normal distribution is 0.5 and can be obtained as follows"
   ]
  },
  {
   "cell_type": "code",
   "execution_count": 4,
   "metadata": {},
   "outputs": [
    {
     "data": {
      "text/plain": [
       "0.5"
      ]
     },
     "execution_count": 4,
     "metadata": {},
     "output_type": "execute_result"
    }
   ],
   "source": [
    "scipy.stats.norm.cdf(0)"
   ]
  },
  {
   "cell_type": "markdown",
   "metadata": {},
   "source": [
    "The point x where cdf(x) == p can be obtained using `scipy.stats.norm.ppf(p)`.\n",
    "- that is, the function cdf(x) is 0.5 at x = 0\n",
    "- which is given below"
   ]
  },
  {
   "cell_type": "code",
   "execution_count": 5,
   "metadata": {},
   "outputs": [
    {
     "data": {
      "text/plain": [
       "0.0"
      ]
     },
     "execution_count": 5,
     "metadata": {},
     "output_type": "execute_result"
    }
   ],
   "source": [
    "scipy.stats.norm.ppf(0.5)"
   ]
  },
  {
   "cell_type": "markdown",
   "metadata": {},
   "source": [
    "### Binomial distribution\n",
    "\n",
    "- https://en.wikipedia.org/wiki/Binomial_distribution\n",
    "- PMF (Probability Mass Function)\n",
    "$$\n",
    "    Pr[k | n, p] = {n \\choose k} p^k (1-p)^{n-k}\n",
    "$$\n",
    "\n",
    "- use `scipy.stats.binom.cdf()` for CDF\n",
    "- use `scipy.stats.binom.pmf()` for PMF"
   ]
  },
  {
   "cell_type": "code",
   "execution_count": 6,
   "metadata": {},
   "outputs": [
    {
     "data": {
      "text/plain": [
       "0.3822806016000001"
      ]
     },
     "execution_count": 6,
     "metadata": {},
     "output_type": "execute_result"
    }
   ],
   "source": [
    "scipy.stats.binom.cdf(k=3, n=10, p=0.4)"
   ]
  },
  {
   "cell_type": "code",
   "execution_count": 7,
   "metadata": {},
   "outputs": [
    {
     "data": {
      "text/plain": [
       "0.21499084800000012"
      ]
     },
     "execution_count": 7,
     "metadata": {},
     "output_type": "execute_result"
    }
   ],
   "source": [
    "scipy.stats.binom.pmf(k=3, n=10, p=0.4)"
   ]
  },
  {
   "cell_type": "markdown",
   "metadata": {},
   "source": [
    "### Poisson distribution\n",
    "- https://en.wikipedia.org/wiki/Poisson_distribution\n",
    "- PMF\n",
    "$$\n",
    "    Pr[k | \\mu] = Pr[ k \\mbox{ events in interval }] = \\frac{\\mu^k \\exp ^{-\\mu}}{k!}\n",
    "$$\n",
    "    where \n",
    "    - $\\mu$ is the average number of events per interval\n",
    "    - wikipedia.org uses $\\lambda$ instead of $\\mu$\n",
    "    - $k$ takes values 0,1,2, ...\n",
    "- use `scipy.stats.poisson.cdf()` for CDF\n",
    "- use `scipy.stats.poisson.pmf()` for PMF"
   ]
  },
  {
   "cell_type": "code",
   "execution_count": 8,
   "metadata": {},
   "outputs": [
    {
     "data": {
      "text/plain": [
       "0.025038944623030353"
      ]
     },
     "execution_count": 8,
     "metadata": {},
     "output_type": "execute_result"
    }
   ],
   "source": [
    "scipy.stats.poisson.pmf(k=90, mu=100)"
   ]
  },
  {
   "cell_type": "code",
   "execution_count": 9,
   "metadata": {},
   "outputs": [
    {
     "data": {
      "text/plain": [
       "0.17138511932176148"
      ]
     },
     "execution_count": 9,
     "metadata": {},
     "output_type": "execute_result"
    }
   ],
   "source": [
    "scipy.stats.poisson.cdf(k=90, mu=100)"
   ]
  },
  {
   "cell_type": "markdown",
   "metadata": {},
   "source": [
    "### Bayes' Theorem\n",
    "- https://en.wikipedia.org/wiki/Bayes%27_theorem\n",
    "\n",
    "- product rule of probability\n",
    "$$\n",
    "    P(X=x_i, Y=y_j) = P(Y=y_j | X=x_i) p(X=x_i)\n",
    "$$\n",
    "    - $P(X=x_i, Y=y_j)$ is called the joint probability.\n",
    "\n",
    "- sum rule of probability\n",
    "$$\n",
    "    P(X = x_i) = \\sum_{j=1}^L P(X=x_i, Y=y_j)\n",
    "$$\n",
    "    - $P(X=x_i)$ is called the marginal probability.\n",
    "\n",
    "- Bayes' theorem\n",
    "$$\n",
    "    P(Y=y_j | X=x_i) = \\frac{ P(X=x_i | Y=y_j) P(Y=y_j) } {P(X=x_i)} = \\frac{ P(X=x_i | Y=y_j) P(Y=y_j) } {\\sum_k P(X=x_i | Y=y_k) P(Y=y_k)}\n",
    "$$"
   ]
  },
  {
   "cell_type": "markdown",
   "metadata": {},
   "source": [
    "---\n",
    "## Problem\n",
    "---\n",
    "\n",
    "    A survey is conducted in a large office building. It is found that 30% of the office workers weigh less than 62kg and that 25% of the office workers weigh more than 98kg.\n",
    "\n",
    "    The weights of the office workers may be modelled by a normal distribution with mean $m$ and standard deviation $s$."
   ]
  },
  {
   "cell_type": "markdown",
   "metadata": {},
   "source": [
    "(a)\n",
    "\n",
    "1. Determine two simultaneous linear equations satisfied by $m$ and $s$.\n",
    "2. Compute the values of $m$ and $s$"
   ]
  },
  {
   "cell_type": "markdown",
   "metadata": {},
   "source": [
    "(b)\n",
    "Find the probability that an office worker weighs more than 100kg."
   ]
  },
  {
   "cell_type": "markdown",
   "metadata": {},
   "source": [
    "    There are elevators in the office building that take the office workers to their offices.\n",
    "    Given that there are 10 workers in a particular elevator,"
   ]
  },
  {
   "cell_type": "markdown",
   "metadata": {},
   "source": [
    "(c)\n",
    "find the probability that at least four of the workers weigh more than 100kg."
   ]
  },
  {
   "cell_type": "markdown",
   "metadata": {},
   "source": [
    "    Given that there are 10 workers in an elevator and at least one weighs more than 100kg,"
   ]
  },
  {
   "cell_type": "markdown",
   "metadata": {},
   "source": [
    "(d)\n",
    "find the probability that there are fewer than four workers exceeding 100kg."
   ]
  },
  {
   "cell_type": "markdown",
   "metadata": {},
   "source": [
    "    The arrival of the elevators at the ground floor between 08:00 and 09:00 can be modelled by a Poisson distribution.\n",
    "\n",
    "    Elevators arrive on average every 36 seconds."
   ]
  },
  {
   "cell_type": "markdown",
   "metadata": {},
   "source": [
    "(e)\n",
    "Find the probability that in any half hour period between 08:00 and 09:00 more than 60 elevators arrive at the ground floor."
   ]
  },
  {
   "cell_type": "markdown",
   "metadata": {},
   "source": [
    "    An elevator can take a maximum of 10 workers. Given that 400 workers arrive in a half hour period independently of each other,"
   ]
  },
  {
   "cell_type": "markdown",
   "metadata": {},
   "source": [
    "(f) find the probability that there are sufficient elevators to take them to their offices."
   ]
  },
  {
   "cell_type": "markdown",
   "metadata": {},
   "source": [
    "## END."
   ]
  },
  {
   "cell_type": "code",
   "execution_count": null,
   "metadata": {},
   "outputs": [],
   "source": []
  },
  {
   "cell_type": "code",
   "execution_count": null,
   "metadata": {},
   "outputs": [],
   "source": []
  },
  {
   "cell_type": "code",
   "execution_count": null,
   "metadata": {},
   "outputs": [],
   "source": []
  },
  {
   "cell_type": "code",
   "execution_count": null,
   "metadata": {},
   "outputs": [],
   "source": []
  },
  {
   "cell_type": "code",
   "execution_count": null,
   "metadata": {},
   "outputs": [],
   "source": []
  },
  {
   "cell_type": "code",
   "execution_count": null,
   "metadata": {},
   "outputs": [],
   "source": []
  },
  {
   "cell_type": "code",
   "execution_count": 10,
   "metadata": {},
   "outputs": [],
   "source": [
    "import scipy.stats as st\n",
    "import scipy.special as ssp"
   ]
  },
  {
   "cell_type": "code",
   "execution_count": 11,
   "metadata": {},
   "outputs": [],
   "source": [
    "a, b = st.norm.ppf(0.3), st.norm.ppf(0.75)"
   ]
  },
  {
   "cell_type": "code",
   "execution_count": 12,
   "metadata": {},
   "outputs": [
    {
     "data": {
      "text/plain": [
       "30.02776910773775"
      ]
     },
     "execution_count": 12,
     "metadata": {},
     "output_type": "execute_result"
    }
   ],
   "source": [
    "s = 36 / (b - a)\n",
    "s"
   ]
  },
  {
   "cell_type": "code",
   "execution_count": 13,
   "metadata": {},
   "outputs": [
    {
     "data": {
      "text/plain": [
       "77.74657751557635"
      ]
     },
     "execution_count": 13,
     "metadata": {},
     "output_type": "execute_result"
    }
   ],
   "source": [
    "m = 62 - a * s\n",
    "m"
   ]
  },
  {
   "cell_type": "code",
   "execution_count": 14,
   "metadata": {},
   "outputs": [
    {
     "data": {
      "text/plain": [
       "0.7410947648018662"
      ]
     },
     "execution_count": 14,
     "metadata": {},
     "output_type": "execute_result"
    }
   ],
   "source": [
    "z0 = (100 - m ) / s\n",
    "z0"
   ]
  },
  {
   "cell_type": "code",
   "execution_count": 15,
   "metadata": {},
   "outputs": [],
   "source": [
    "Pz0 = st.norm.cdf(z0)"
   ]
  },
  {
   "cell_type": "code",
   "execution_count": 16,
   "metadata": {},
   "outputs": [
    {
     "data": {
      "text/plain": [
       "0.22931799182323287"
      ]
     },
     "execution_count": 16,
     "metadata": {},
     "output_type": "execute_result"
    }
   ],
   "source": [
    "t = 1 - Pz0\n",
    "t"
   ]
  },
  {
   "cell_type": "code",
   "execution_count": 17,
   "metadata": {},
   "outputs": [
    {
     "data": {
      "text/plain": [
       "0.12168110266158293"
      ]
     },
     "execution_count": 17,
     "metadata": {},
     "output_type": "execute_result"
    }
   ],
   "source": [
    "ssp.comb(10, 4) * t**4 * (1-t)**6"
   ]
  },
  {
   "cell_type": "code",
   "execution_count": 18,
   "metadata": {},
   "outputs": [
    {
     "data": {
      "text/plain": [
       "0.1779522510824021"
      ]
     },
     "execution_count": 18,
     "metadata": {},
     "output_type": "execute_result"
    }
   ],
   "source": [
    "sum = 0\n",
    "for i in range (4):\n",
    "    sum += ssp.comb(10,i) * t**i * (1-t)**(10-i)\n",
    "1 - sum"
   ]
  },
  {
   "cell_type": "code",
   "execution_count": 19,
   "metadata": {},
   "outputs": [],
   "source": [
    "sum = 0\n",
    "for i in range (4,11):\n",
    "    sum += ssp.comb(10,i) * t**i * (1-t)**(10-i)"
   ]
  },
  {
   "cell_type": "code",
   "execution_count": 20,
   "metadata": {},
   "outputs": [
    {
     "data": {
      "text/plain": [
       "0.17795225108240206"
      ]
     },
     "execution_count": 20,
     "metadata": {},
     "output_type": "execute_result"
    }
   ],
   "source": [
    "sum"
   ]
  },
  {
   "cell_type": "code",
   "execution_count": 21,
   "metadata": {},
   "outputs": [
    {
     "data": {
      "text/plain": [
       "0.17795225108240198"
      ]
     },
     "execution_count": 21,
     "metadata": {},
     "output_type": "execute_result"
    }
   ],
   "source": [
    "1 - st.binom.cdf(3, n=10, p=t)"
   ]
  },
  {
   "cell_type": "code",
   "execution_count": 22,
   "metadata": {},
   "outputs": [
    {
     "data": {
      "text/plain": [
       "0.7481294092068188"
      ]
     },
     "execution_count": 22,
     "metadata": {},
     "output_type": "execute_result"
    }
   ],
   "source": [
    "sum123 = 0\n",
    "for i in [1,2,3]:\n",
    "    sum123 += ssp.comb(10,i) * t**i * (1-t)**(10-i)\n",
    "sum123"
   ]
  },
  {
   "cell_type": "code",
   "execution_count": 23,
   "metadata": {},
   "outputs": [],
   "source": [
    "nu= st.binom.cdf(3, n=10, p=t) - st.binom.cdf(0, n=10, p=t)"
   ]
  },
  {
   "cell_type": "code",
   "execution_count": 24,
   "metadata": {},
   "outputs": [],
   "source": [
    "deno = 1 - st.binom.cdf(0, n=10, p=t)"
   ]
  },
  {
   "cell_type": "code",
   "execution_count": 25,
   "metadata": {},
   "outputs": [
    {
     "data": {
      "text/plain": [
       "(0.7481294092068189, 0.9260816602892209)"
      ]
     },
     "execution_count": 25,
     "metadata": {},
     "output_type": "execute_result"
    }
   ],
   "source": [
    "nu, deno"
   ]
  },
  {
   "cell_type": "code",
   "execution_count": 26,
   "metadata": {},
   "outputs": [
    {
     "data": {
      "text/plain": [
       "0.807843888165514"
      ]
     },
     "execution_count": 26,
     "metadata": {},
     "output_type": "execute_result"
    }
   ],
   "source": [
    "nu / deno"
   ]
  },
  {
   "cell_type": "code",
   "execution_count": 27,
   "metadata": {},
   "outputs": [
    {
     "data": {
      "text/plain": [
       "0.07216017981325695"
      ]
     },
     "execution_count": 27,
     "metadata": {},
     "output_type": "execute_result"
    }
   ],
   "source": [
    "1 - st.poisson.cdf(60, mu=50)"
   ]
  },
  {
   "cell_type": "code",
   "execution_count": 28,
   "metadata": {},
   "outputs": [
    {
     "data": {
      "text/plain": [
       "0.935429631078867"
      ]
     },
     "execution_count": 28,
     "metadata": {},
     "output_type": "execute_result"
    }
   ],
   "source": [
    "1 - st.poisson.cdf(39, mu=50)"
   ]
  },
  {
   "cell_type": "code",
   "execution_count": null,
   "metadata": {},
   "outputs": [],
   "source": []
  }
 ],
 "metadata": {
  "kernelspec": {
   "display_name": "Python 3",
   "language": "python",
   "name": "python3"
  },
  "language_info": {
   "codemirror_mode": {
    "name": "ipython",
    "version": 3
   },
   "file_extension": ".py",
   "mimetype": "text/x-python",
   "name": "python",
   "nbconvert_exporter": "python",
   "pygments_lexer": "ipython3",
   "version": "3.6.8"
  }
 },
 "nbformat": 4,
 "nbformat_minor": 4
}

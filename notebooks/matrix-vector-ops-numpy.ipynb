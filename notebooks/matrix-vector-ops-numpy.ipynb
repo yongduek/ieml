{
 "cells": [
  {
   "cell_type": "code",
   "execution_count": 1,
   "metadata": {},
   "outputs": [],
   "source": [
    "%matplotlib inline\n",
    "import matplotlib.pyplot as plt\n",
    "import seaborn as sns\n",
    "import numpy as np"
   ]
  },
  {
   "cell_type": "markdown",
   "metadata": {},
   "source": [
    "# Matrix operation with `numpy`"
   ]
  },
  {
   "cell_type": "markdown",
   "metadata": {},
   "source": [
    "## 1. definition"
   ]
  },
  {
   "cell_type": "code",
   "execution_count": 2,
   "metadata": {},
   "outputs": [],
   "source": [
    "dim = 5\n",
    "rows = 4\n",
    "cols = 5"
   ]
  },
  {
   "cell_type": "markdown",
   "metadata": {},
   "source": [
    "## 2. Vector"
   ]
  },
  {
   "cell_type": "code",
   "execution_count": 3,
   "metadata": {},
   "outputs": [
    {
     "name": "stdout",
     "output_type": "stream",
     "text": [
      "v1:  [1. 2. 3. 4. 5.] \n",
      "v2:  [0.53504903 0.57477475 0.97010861 0.17700236 0.67030326]\n"
     ]
    }
   ],
   "source": [
    "v1 = np.array([1,2,3,4,5.])\n",
    "v2 = np.random.random(5)\n",
    "print ('v1: ', v1, '\\nv2: ', v2)"
   ]
  },
  {
   "cell_type": "markdown",
   "metadata": {},
   "source": [
    "## 2.1 Element-wise +, -, *, /"
   ]
  },
  {
   "cell_type": "code",
   "execution_count": 4,
   "metadata": {},
   "outputs": [
    {
     "data": {
      "text/plain": [
       "array([1.53504903, 2.57477475, 3.97010861, 4.17700236, 5.67030326])"
      ]
     },
     "execution_count": 4,
     "metadata": {},
     "output_type": "execute_result"
    }
   ],
   "source": [
    "v = v1 + v2\n",
    "v"
   ]
  },
  {
   "cell_type": "code",
   "execution_count": 5,
   "metadata": {},
   "outputs": [
    {
     "data": {
      "text/plain": [
       "array([0.53504903, 1.1495495 , 2.91032582, 0.70800946, 3.35151631])"
      ]
     },
     "execution_count": 5,
     "metadata": {},
     "output_type": "execute_result"
    }
   ],
   "source": [
    "v = v1 * v2\n",
    "v"
   ]
  },
  {
   "cell_type": "code",
   "execution_count": 6,
   "metadata": {},
   "outputs": [
    {
     "data": {
      "text/plain": [
       "array([ 1.86898759,  3.47962399,  3.09243726, 22.59856811,  7.45931025])"
      ]
     },
     "execution_count": 6,
     "metadata": {},
     "output_type": "execute_result"
    }
   ],
   "source": [
    "v = v1 / v2\n",
    "v"
   ]
  },
  {
   "cell_type": "markdown",
   "metadata": {},
   "source": [
    "### 2.2 dot product"
   ]
  },
  {
   "cell_type": "code",
   "execution_count": 7,
   "metadata": {},
   "outputs": [
    {
     "data": {
      "text/plain": [
       "8.654450122630317"
      ]
     },
     "execution_count": 7,
     "metadata": {},
     "output_type": "execute_result"
    }
   ],
   "source": [
    "dp = np.dot(v1, v2)\n",
    "dp"
   ]
  },
  {
   "cell_type": "code",
   "execution_count": 8,
   "metadata": {},
   "outputs": [
    {
     "name": "stdout",
     "output_type": "stream",
     "text": [
      "Dot product of two vectors:  8.654450122630317 8.654450122630317  and difference:  0.0\n"
     ]
    }
   ],
   "source": [
    "dot_sum = 0\n",
    "for i in range (v1.shape[0]):\n",
    "    dot_sum += v1[i]*v2[i]\n",
    "print ('Dot product of two vectors: ', dot_sum, dp, ' and difference: ', dot_sum - dp)"
   ]
  },
  {
   "cell_type": "markdown",
   "metadata": {},
   "source": [
    "## 3. Matrix"
   ]
  },
  {
   "cell_type": "code",
   "execution_count": 9,
   "metadata": {},
   "outputs": [
    {
     "data": {
      "text/plain": [
       "array([[0.42585582, 0.50638409, 0.876621  , 0.36736175, 0.056552  ],\n",
       "       [0.94128669, 0.65590733, 0.58614308, 0.83912628, 0.9563282 ],\n",
       "       [0.49857033, 0.86719185, 0.80088826, 0.10555436, 0.25831567],\n",
       "       [0.71235736, 0.5795033 , 0.41276296, 0.93181183, 0.39628132]])"
      ]
     },
     "execution_count": 9,
     "metadata": {},
     "output_type": "execute_result"
    }
   ],
   "source": [
    "mat1 = np.random.random((rows,cols)) # random in [0, 1)\n",
    "mat1"
   ]
  },
  {
   "cell_type": "code",
   "execution_count": 10,
   "metadata": {},
   "outputs": [
    {
     "data": {
      "text/plain": [
       "((4, 5), dtype('float64'))"
      ]
     },
     "execution_count": 10,
     "metadata": {},
     "output_type": "execute_result"
    }
   ],
   "source": [
    "mat1.shape, mat1.dtype"
   ]
  },
  {
   "cell_type": "code",
   "execution_count": 11,
   "metadata": {},
   "outputs": [
    {
     "data": {
      "text/plain": [
       "array([[0.67443789, 0.38734264, 0.07762864, 0.07110945, 0.18716626],\n",
       "       [0.67881515, 0.6117804 , 0.98800567, 0.88883466, 0.66128839],\n",
       "       [0.78996521, 0.6318086 , 0.81591363, 0.71071962, 0.34471573],\n",
       "       [0.92674294, 0.22213029, 0.42224431, 0.03420667, 0.93353253]])"
      ]
     },
     "execution_count": 11,
     "metadata": {},
     "output_type": "execute_result"
    }
   ],
   "source": [
    "mat2 = np.random.random((rows, cols))\n",
    "mat2"
   ]
  },
  {
   "cell_type": "markdown",
   "metadata": {},
   "source": [
    "### 3.1 Element-wise Matrix operations: +, -, *, /"
   ]
  },
  {
   "cell_type": "code",
   "execution_count": 12,
   "metadata": {},
   "outputs": [
    {
     "data": {
      "text/plain": [
       "array([[1.10029371, 0.89372673, 0.95424964, 0.43847121, 0.24371826],\n",
       "       [1.62010184, 1.26768772, 1.57414876, 1.72796094, 1.61761659],\n",
       "       [1.28853554, 1.49900046, 1.61680189, 0.81627398, 0.6030314 ],\n",
       "       [1.6391003 , 0.8016336 , 0.83500727, 0.9660185 , 1.32981385]])"
      ]
     },
     "execution_count": 12,
     "metadata": {},
     "output_type": "execute_result"
    }
   ],
   "source": [
    "m = mat1 + mat2\n",
    "m"
   ]
  },
  {
   "cell_type": "code",
   "execution_count": 13,
   "metadata": {},
   "outputs": [
    {
     "data": {
      "text/plain": [
       "array([[0.2872133 , 0.19614415, 0.06805089, 0.02612289, 0.01058463],\n",
       "       [0.63895966, 0.40127124, 0.57911269, 0.74584452, 0.63240874],\n",
       "       [0.39385321, 0.54789927, 0.65345565, 0.07501956, 0.08904548],\n",
       "       [0.66017216, 0.12872524, 0.17428681, 0.03187418, 0.3699415 ]])"
      ]
     },
     "execution_count": 13,
     "metadata": {},
     "output_type": "execute_result"
    }
   ],
   "source": [
    "m = mat1 * mat2\n",
    "m"
   ]
  },
  {
   "cell_type": "code",
   "execution_count": 14,
   "metadata": {},
   "outputs": [
    {
     "data": {
      "text/plain": [
       "array([[ 0.63142332,  1.30732854, 11.29249501,  5.16614512,  0.30214846],\n",
       "       [ 1.38666129,  1.07212871,  0.59325882,  0.94407467,  1.44615908],\n",
       "       [ 0.63112947,  1.37255468,  0.98158461,  0.14851759,  0.74935854],\n",
       "       [ 0.7686677 ,  2.60884409,  0.97754536, 27.24065126,  0.42449653]])"
      ]
     },
     "execution_count": 14,
     "metadata": {},
     "output_type": "execute_result"
    }
   ],
   "source": [
    "m = mat1 / mat2\n",
    "m"
   ]
  },
  {
   "cell_type": "markdown",
   "metadata": {},
   "source": [
    "### 3.2 Matrix multiplication: @\n",
    "- size constraint must be satisfied\n",
    "- $ A(r,c) \\times B(c, d) = C(r,d) $"
   ]
  },
  {
   "cell_type": "code",
   "execution_count": 15,
   "metadata": {},
   "outputs": [
    {
     "name": "stdout",
     "output_type": "stream",
     "text": [
      "A:  (4, 5) B:  (5, 4)\n"
     ]
    }
   ],
   "source": [
    "# matrix transpose operation\n",
    "mat3 = mat2.T\n",
    "print('A: ', mat1.shape, 'B: ', mat3.shape)"
   ]
  },
  {
   "cell_type": "code",
   "execution_count": 16,
   "metadata": {},
   "outputs": [
    {
     "data": {
      "text/plain": [
       "array([[0.67443789, 0.67881515, 0.78996521, 0.92674294],\n",
       "       [0.38734264, 0.6117804 , 0.6318086 , 0.22213029],\n",
       "       [0.07762864, 0.98800567, 0.81591363, 0.42224431],\n",
       "       [0.07110945, 0.88883466, 0.71071962, 0.03420667],\n",
       "       [0.18716626, 0.66128839, 0.34471573, 0.93353253]])"
      ]
     },
     "execution_count": 16,
     "metadata": {},
     "output_type": "execute_result"
    }
   ],
   "source": [
    "mat3"
   ]
  },
  {
   "cell_type": "code",
   "execution_count": 17,
   "metadata": {},
   "outputs": [
    {
     "data": {
      "text/plain": [
       "array([[0.58811586, 1.8289008 , 1.65218169, 0.94264969],\n",
       "       [1.17306396, 2.99759686, 2.56227864, 2.18699045],\n",
       "       [0.79018086, 1.92489175, 1.75927317, 1.23760336],\n",
       "       [0.87738049, 2.33618276, 2.06451298, 1.36499988]])"
      ]
     },
     "execution_count": 17,
     "metadata": {},
     "output_type": "execute_result"
    }
   ],
   "source": [
    "mm = mat1 @ mat3\n",
    "mm"
   ]
  },
  {
   "cell_type": "code",
   "execution_count": 18,
   "metadata": {},
   "outputs": [
    {
     "data": {
      "text/plain": [
       "(4, 4)"
      ]
     },
     "execution_count": 18,
     "metadata": {},
     "output_type": "execute_result"
    }
   ],
   "source": [
    "mm.shape"
   ]
  },
  {
   "cell_type": "code",
   "execution_count": 19,
   "metadata": {},
   "outputs": [
    {
     "data": {
      "text/plain": [
       "(array([0.42585582, 0.50638409, 0.876621  , 0.36736175, 0.056552  ]),\n",
       " array([0.67443789, 0.38734264, 0.07762864, 0.07110945, 0.18716626]))"
      ]
     },
     "execution_count": 19,
     "metadata": {},
     "output_type": "execute_result"
    }
   ],
   "source": [
    "mat1[0], mat3[:,0]"
   ]
  },
  {
   "cell_type": "code",
   "execution_count": 20,
   "metadata": {},
   "outputs": [
    {
     "name": "stdout",
     "output_type": "stream",
     "text": [
      "This value mm00: 0.5881158649258862 must be the same as mm[0,0]: 0.5881158649258863\n"
     ]
    }
   ],
   "source": [
    "mm00 = mat1[0].dot(mat3[:,0])\n",
    "print ('This value mm00: {} must be the same as mm[0,0]: {}'.format(mm00, mm[0,0]))"
   ]
  },
  {
   "cell_type": "code",
   "execution_count": 21,
   "metadata": {},
   "outputs": [
    {
     "name": "stdout",
     "output_type": "stream",
     "text": [
      "this means zeros:  -1.1102230246251565e-16\n"
     ]
    }
   ],
   "source": [
    "diff = mm00 - mm[0,0]\n",
    "print ('this means zeros: ', diff)"
   ]
  },
  {
   "cell_type": "markdown",
   "metadata": {},
   "source": [
    "### 3.3 Matrix - Vector Multiplication"
   ]
  },
  {
   "cell_type": "code",
   "execution_count": 22,
   "metadata": {},
   "outputs": [
    {
     "data": {
      "text/plain": [
       "((4, 5), (5,))"
      ]
     },
     "execution_count": 22,
     "metadata": {},
     "output_type": "execute_result"
    }
   ],
   "source": [
    "mat1.shape, v1.shape"
   ]
  },
  {
   "cell_type": "markdown",
   "metadata": {},
   "source": [
    "The dimension of $v_1$ must be $5\\times1$ for the m-v multiplication"
   ]
  },
  {
   "cell_type": "code",
   "execution_count": 23,
   "metadata": {},
   "outputs": [
    {
     "data": {
      "text/plain": [
       "array([[1.],\n",
       "       [2.],\n",
       "       [3.],\n",
       "       [4.],\n",
       "       [5.]])"
      ]
     },
     "execution_count": 23,
     "metadata": {},
     "output_type": "execute_result"
    }
   ],
   "source": [
    "v5x1 = v1[:,np.newaxis]\n",
    "v5x1"
   ]
  },
  {
   "cell_type": "markdown",
   "metadata": {},
   "source": [
    "Now we can compute the multiplication as the definition says."
   ]
  },
  {
   "cell_type": "code",
   "execution_count": 24,
   "metadata": {},
   "outputs": [
    {
     "data": {
      "text/plain": [
       "array([[ 5.82069401],\n",
       "       [12.14967674],\n",
       "       [ 6.34941465],\n",
       "       [ 8.81830679]])"
      ]
     },
     "execution_count": 24,
     "metadata": {},
     "output_type": "execute_result"
    }
   ],
   "source": [
    "mv_5x1 = mat1 @ v5x1\n",
    "mv_5x1"
   ]
  },
  {
   "cell_type": "markdown",
   "metadata": {},
   "source": [
    "- `Numpy` just do it without dimension extension. I don't recomment it if you feel confused."
   ]
  },
  {
   "cell_type": "code",
   "execution_count": 25,
   "metadata": {},
   "outputs": [
    {
     "data": {
      "text/plain": [
       "array([ 5.82069401, 12.14967674,  6.34941465,  8.81830679])"
      ]
     },
     "execution_count": 25,
     "metadata": {},
     "output_type": "execute_result"
    }
   ],
   "source": [
    "mv1 = mat1 @ v1\n",
    "mv1"
   ]
  },
  {
   "cell_type": "markdown",
   "metadata": {},
   "source": [
    "Notice that the two variables `mv_5x1` and `mv1` have the same values, but different dimensions."
   ]
  },
  {
   "cell_type": "code",
   "execution_count": 26,
   "metadata": {},
   "outputs": [
    {
     "data": {
      "text/plain": [
       "((4,), (4, 1))"
      ]
     },
     "execution_count": 26,
     "metadata": {},
     "output_type": "execute_result"
    }
   ],
   "source": [
    "mv1.shape, mv_5x1.shape"
   ]
  },
  {
   "cell_type": "code",
   "execution_count": 27,
   "metadata": {},
   "outputs": [
    {
     "data": {
      "text/plain": [
       "array([[ 0.        ,  6.32898273,  0.52872064,  2.99761278],\n",
       "       [-6.32898273,  0.        , -5.80026209, -3.33136995],\n",
       "       [-0.52872064,  5.80026209,  0.        ,  2.46889214],\n",
       "       [-2.99761278,  3.33136995, -2.46889214,  0.        ]])"
      ]
     },
     "execution_count": 27,
     "metadata": {},
     "output_type": "execute_result"
    }
   ],
   "source": [
    "# simple subtraction will result in something unexpected!\n",
    "mv1 - mv_5x1"
   ]
  },
  {
   "cell_type": "code",
   "execution_count": 28,
   "metadata": {},
   "outputs": [
    {
     "data": {
      "text/plain": [
       "array([ 5.82069401, 12.14967674,  6.34941465,  8.81830679])"
      ]
     },
     "execution_count": 28,
     "metadata": {},
     "output_type": "execute_result"
    }
   ],
   "source": [
    "# you can use squeeze\n",
    "mv_5x1_sqz = mv_5x1.squeeze(axis=1)\n",
    "mv_5x1_sqz"
   ]
  },
  {
   "cell_type": "markdown",
   "metadata": {},
   "source": [
    "### 3.4 Matrix Decompositions"
   ]
  },
  {
   "cell_type": "code",
   "execution_count": 29,
   "metadata": {},
   "outputs": [
    {
     "data": {
      "text/plain": [
       "array([[0.98377453, 1.02724686, 0.87356395, 0.50033262],\n",
       "       [1.02724686, 0.0972038 , 1.6178334 , 0.99884959],\n",
       "       [0.87356395, 1.6178334 , 1.34001702, 0.94815121],\n",
       "       [0.50033262, 0.99884959, 0.94815121, 0.74970232]])"
      ]
     },
     "execution_count": 29,
     "metadata": {},
     "output_type": "execute_result"
    }
   ],
   "source": [
    "mat = np.random.random((4,4))\n",
    "mat = mat + mat.T # make it symmetric for better understanding\n",
    "mat"
   ]
  },
  {
   "cell_type": "markdown",
   "metadata": {},
   "source": [
    "#### Eigen-decomposition"
   ]
  },
  {
   "cell_type": "code",
   "execution_count": 30,
   "metadata": {},
   "outputs": [
    {
     "data": {
      "text/plain": [
       "array([ 3.87511363, -1.14682066,  0.4095024 ,  0.03290231])"
      ]
     },
     "execution_count": 30,
     "metadata": {},
     "output_type": "execute_result"
    }
   ],
   "source": [
    "ev, em = np.linalg.eig (mat)\n",
    "ev"
   ]
  },
  {
   "cell_type": "code",
   "execution_count": 31,
   "metadata": {},
   "outputs": [
    {
     "data": {
      "text/plain": [
       "array([[2.33146835e-15, 1.55431223e-15, 2.66453526e-15, 1.44328993e-15],\n",
       "       [1.55431223e-15, 8.88178420e-16, 1.11022302e-15, 7.77156117e-16],\n",
       "       [2.66453526e-15, 8.88178420e-16, 2.66453526e-15, 1.33226763e-15],\n",
       "       [1.44328993e-15, 7.77156117e-16, 1.33226763e-15, 8.88178420e-16]])"
      ]
     },
     "execution_count": 31,
     "metadata": {},
     "output_type": "execute_result"
    }
   ],
   "source": [
    "recon = em @ np.diag (ev) @ em.T\n",
    "recon - mat"
   ]
  },
  {
   "cell_type": "markdown",
   "metadata": {},
   "source": [
    "#### Singular Value Decomposition (SVD)"
   ]
  },
  {
   "cell_type": "code",
   "execution_count": 32,
   "metadata": {},
   "outputs": [],
   "source": [
    "u, s, vt = np.linalg.svd(mat)"
   ]
  },
  {
   "cell_type": "code",
   "execution_count": 33,
   "metadata": {},
   "outputs": [
    {
     "data": {
      "text/plain": [
       "array([3.87511363, 1.14682066, 0.4095024 , 0.03290231])"
      ]
     },
     "execution_count": 33,
     "metadata": {},
     "output_type": "execute_result"
    }
   ],
   "source": [
    "s"
   ]
  },
  {
   "cell_type": "code",
   "execution_count": 34,
   "metadata": {},
   "outputs": [
    {
     "data": {
      "text/plain": [
       "array([[ 1.11022302e-15,  0.00000000e+00, -2.22044605e-16,\n",
       "        -4.44089210e-16],\n",
       "       [-6.88338275e-15,  2.22044605e-16,  1.77635684e-15,\n",
       "         4.10782519e-15],\n",
       "       [ 2.99760217e-15,  0.00000000e+00, -8.88178420e-16,\n",
       "        -1.77635684e-15],\n",
       "       [ 1.55431223e-15,  1.11022302e-16, -2.22044605e-16,\n",
       "        -7.77156117e-16]])"
      ]
     },
     "execution_count": 34,
     "metadata": {},
     "output_type": "execute_result"
    }
   ],
   "source": [
    "recon = u @ np.diag(s) @ vt\n",
    "recon - mat"
   ]
  },
  {
   "cell_type": "markdown",
   "metadata": {},
   "source": [
    "SVD for a $m\\times n$ matrix"
   ]
  },
  {
   "cell_type": "code",
   "execution_count": 35,
   "metadata": {},
   "outputs": [
    {
     "data": {
      "text/plain": [
       "array([[0.29856387, 0.54758804, 0.18936927],\n",
       "       [0.06473684, 0.59199408, 0.61605665],\n",
       "       [0.68200691, 0.01662874, 0.48875277],\n",
       "       [0.96453598, 0.48466411, 0.42641855]])"
      ]
     },
     "execution_count": 35,
     "metadata": {},
     "output_type": "execute_result"
    }
   ],
   "source": [
    "mat43 = np.random.random((4,3))\n",
    "mat43"
   ]
  },
  {
   "cell_type": "code",
   "execution_count": 36,
   "metadata": {},
   "outputs": [],
   "source": [
    "u, s, vt = np.linalg.svd (mat43, full_matrices=False)"
   ]
  },
  {
   "cell_type": "code",
   "execution_count": 37,
   "metadata": {},
   "outputs": [
    {
     "data": {
      "text/plain": [
       "((4, 3), (3,), (3, 3))"
      ]
     },
     "execution_count": 37,
     "metadata": {},
     "output_type": "execute_result"
    }
   ],
   "source": [
    "u.shape, s.shape, vt.shape"
   ]
  },
  {
   "cell_type": "code",
   "execution_count": 38,
   "metadata": {},
   "outputs": [
    {
     "data": {
      "text/plain": [
       "array([[ 1.66533454e-16,  4.44089210e-16,  2.77555756e-17],\n",
       "       [-1.94289029e-16,  3.33066907e-16,  2.22044605e-16],\n",
       "       [ 1.11022302e-16, -6.93889390e-18, -5.55111512e-17],\n",
       "       [ 4.44089210e-16,  1.66533454e-16,  0.00000000e+00]])"
      ]
     },
     "execution_count": 38,
     "metadata": {},
     "output_type": "execute_result"
    }
   ],
   "source": [
    "recon = u @ np.diag(s) @ vt\n",
    "recon - mat43"
   ]
  },
  {
   "cell_type": "code",
   "execution_count": 39,
   "metadata": {},
   "outputs": [
    {
     "data": {
      "text/plain": [
       "array([[-0.35683369, -0.33065197,  0.54662544],\n",
       "       [-0.40758108, -0.76001477, -0.45863378],\n",
       "       [-0.45973424,  0.47301054, -0.59176398],\n",
       "       [-0.70369866,  0.2988442 ,  0.37506145]])"
      ]
     },
     "execution_count": 39,
     "metadata": {},
     "output_type": "execute_result"
    }
   ],
   "source": [
    "u"
   ]
  },
  {
   "cell_type": "code",
   "execution_count": 40,
   "metadata": {},
   "outputs": [
    {
     "data": {
      "text/plain": [
       "array([[ 1.00000000e+00, -1.29230700e-16, -2.22439025e-16],\n",
       "       [-1.29230700e-16,  1.00000000e+00,  6.68365100e-17],\n",
       "       [-2.22439025e-16,  6.68365100e-17,  1.00000000e+00]])"
      ]
     },
     "execution_count": 40,
     "metadata": {},
     "output_type": "execute_result"
    }
   ],
   "source": [
    "# u is a unitary (or orthogonal) matrix: the columns are orthogonal to each other, and mag = 1\n",
    "u.T @ u"
   ]
  },
  {
   "cell_type": "code",
   "execution_count": 41,
   "metadata": {},
   "outputs": [
    {
     "data": {
      "text/plain": [
       "array([[ 0.53546038,  0.14603816, -0.31582644,  0.3573081 ],\n",
       "       [ 0.14603816,  0.95408972,  0.09928693, -0.11232759],\n",
       "       [-0.31582644,  0.09928693,  0.78527915,  0.24292297],\n",
       "       [ 0.3573081 , -0.11232759,  0.24292297,  0.72517075]])"
      ]
     },
     "execution_count": 41,
     "metadata": {},
     "output_type": "execute_result"
    }
   ],
   "source": [
    "# but this is not!\n",
    "u @ u.T"
   ]
  },
  {
   "cell_type": "code",
   "execution_count": 42,
   "metadata": {},
   "outputs": [
    {
     "data": {
      "text/plain": [
       "array([[ 1.00000000e+00, -1.99243502e-16, -2.30716939e-16],\n",
       "       [-1.99243502e-16,  1.00000000e+00,  2.62264783e-17],\n",
       "       [-2.30716939e-16,  2.62264783e-17,  1.00000000e+00]])"
      ]
     },
     "execution_count": 42,
     "metadata": {},
     "output_type": "execute_result"
    }
   ],
   "source": [
    "# vt is a unitary and square matrix\n",
    "vt.T @ vt"
   ]
  },
  {
   "cell_type": "code",
   "execution_count": 43,
   "metadata": {},
   "outputs": [
    {
     "data": {
      "text/plain": [
       "array([[ 1.00000000e+00,  4.12115070e-17, -1.48279246e-16],\n",
       "       [ 4.12115070e-17,  1.00000000e+00, -1.81807205e-17],\n",
       "       [-1.48279246e-16, -1.81807205e-17,  1.00000000e+00]])"
      ]
     },
     "execution_count": 43,
     "metadata": {},
     "output_type": "execute_result"
    }
   ],
   "source": [
    "# so this too results in id. matrix\n",
    "vt @ vt.T"
   ]
  },
  {
   "cell_type": "code",
   "execution_count": 44,
   "metadata": {},
   "outputs": [
    {
     "name": "stdout",
     "output_type": "stream",
     "text": [
      "mag:  1.0\n",
      "mag:  1.0000000000000002\n",
      "mag:  1.0000000000000002\n"
     ]
    }
   ],
   "source": [
    "for i in range(vt.shape[0]):\n",
    "    print ('mag: ', np.linalg.norm(vt[i]))"
   ]
  },
  {
   "cell_type": "code",
   "execution_count": 45,
   "metadata": {},
   "outputs": [
    {
     "name": "stdout",
     "output_type": "stream",
     "text": [
      "mag:  1.0000000000000002\n",
      "mag:  1.0000000000000002\n",
      "mag:  1.0\n"
     ]
    }
   ],
   "source": [
    "for i in range(vt.T.shape[0]):\n",
    "    print ('mag: ', np.linalg.norm(vt.T[i]))"
   ]
  },
  {
   "cell_type": "markdown",
   "metadata": {},
   "source": [
    "#### Determinant"
   ]
  },
  {
   "cell_type": "code",
   "execution_count": 46,
   "metadata": {},
   "outputs": [
    {
     "data": {
      "text/plain": [
       "(-1.0000000000000007, -1.0000000000000007)"
      ]
     },
     "execution_count": 46,
     "metadata": {},
     "output_type": "execute_result"
    }
   ],
   "source": [
    "np.linalg.det(vt), np.linalg.det(vt.T)"
   ]
  },
  {
   "cell_type": "markdown",
   "metadata": {},
   "source": [
    "#### Inverse of non-singular square matrix"
   ]
  },
  {
   "cell_type": "code",
   "execution_count": 47,
   "metadata": {},
   "outputs": [
    {
     "data": {
      "text/plain": [
       "-0.059877382354025815"
      ]
     },
     "execution_count": 47,
     "metadata": {},
     "output_type": "execute_result"
    }
   ],
   "source": [
    "np.linalg.det( mat ) "
   ]
  },
  {
   "cell_type": "code",
   "execution_count": 48,
   "metadata": {},
   "outputs": [
    {
     "data": {
      "text/plain": [
       "0.9999999999999998"
      ]
     },
     "execution_count": 48,
     "metadata": {},
     "output_type": "execute_result"
    }
   ],
   "source": [
    "inv = np.linalg.inv (mat)\n",
    "ii = inv @ mat\n",
    "np.linalg.det(ii) # must be 1 since ii is identity matrix"
   ]
  },
  {
   "cell_type": "code",
   "execution_count": 49,
   "metadata": {},
   "outputs": [
    {
     "data": {
      "text/plain": [
       "array([[ 1.00000000e+00, -8.77876586e-16, -2.58865495e-15,\n",
       "        -1.92605416e-15],\n",
       "       [ 3.18262548e-16,  1.00000000e+00,  5.85980139e-16,\n",
       "         2.98735010e-16],\n",
       "       [ 7.49758956e-16, -6.60470448e-16,  1.00000000e+00,\n",
       "         1.01139864e-15],\n",
       "       [-3.27276918e-16, -4.88818169e-16, -1.68093115e-15,\n",
       "         1.00000000e+00]])"
      ]
     },
     "execution_count": 49,
     "metadata": {},
     "output_type": "execute_result"
    }
   ],
   "source": [
    "ii"
   ]
  },
  {
   "cell_type": "markdown",
   "metadata": {},
   "source": [
    "# END"
   ]
  }
 ],
 "metadata": {
  "kernelspec": {
   "display_name": "Python 3",
   "language": "python",
   "name": "python3"
  },
  "language_info": {
   "codemirror_mode": {
    "name": "ipython",
    "version": 3
   },
   "file_extension": ".py",
   "mimetype": "text/x-python",
   "name": "python",
   "nbconvert_exporter": "python",
   "pygments_lexer": "ipython3",
   "version": "3.6.8"
  }
 },
 "nbformat": 4,
 "nbformat_minor": 2
}

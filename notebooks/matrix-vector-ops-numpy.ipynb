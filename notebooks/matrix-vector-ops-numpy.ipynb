{
 "cells": [
  {
   "cell_type": "code",
   "execution_count": 2,
   "metadata": {},
   "outputs": [],
   "source": [
    "%matplotlib inline\n",
    "import matplotlib.pyplot as plt\n",
    "import seaborn as sns\n",
    "import numpy as np"
   ]
  },
  {
   "cell_type": "markdown",
   "metadata": {},
   "source": [
    "# Matrix operation with `numpy`"
   ]
  },
  {
   "cell_type": "markdown",
   "metadata": {},
   "source": [
    "## 1. definition"
   ]
  },
  {
   "cell_type": "code",
   "execution_count": 3,
   "metadata": {},
   "outputs": [],
   "source": [
    "dim = 5\n",
    "rows = 4\n",
    "cols = 5"
   ]
  },
  {
   "cell_type": "markdown",
   "metadata": {},
   "source": [
    "## 2. Vector"
   ]
  },
  {
   "cell_type": "code",
   "execution_count": 4,
   "metadata": {},
   "outputs": [
    {
     "name": "stdout",
     "output_type": "stream",
     "text": [
      "v1:  [1. 2. 3. 4. 5.] \n",
      "v2:  [0.77800502 0.11249473 0.85869307 0.86501041 0.65941366]\n"
     ]
    }
   ],
   "source": [
    "v1 = np.array([1,2,3,4,5.])\n",
    "v2 = np.random.random(5)\n",
    "print ('v1: ', v1, '\\nv2: ', v2)"
   ]
  },
  {
   "cell_type": "markdown",
   "metadata": {},
   "source": [
    "## 2.1 Element-wise +, -, *, /"
   ]
  },
  {
   "cell_type": "code",
   "execution_count": 5,
   "metadata": {},
   "outputs": [
    {
     "data": {
      "text/plain": [
       "array([1.77800502, 2.11249473, 3.85869307, 4.86501041, 5.65941366])"
      ]
     },
     "execution_count": 5,
     "metadata": {},
     "output_type": "execute_result"
    }
   ],
   "source": [
    "v = v1 + v2\n",
    "v"
   ]
  },
  {
   "cell_type": "code",
   "execution_count": 6,
   "metadata": {},
   "outputs": [
    {
     "data": {
      "text/plain": [
       "array([0.77800502, 0.22498946, 2.57607922, 3.46004164, 3.2970683 ])"
      ]
     },
     "execution_count": 6,
     "metadata": {},
     "output_type": "execute_result"
    }
   ],
   "source": [
    "v = v1 * v2\n",
    "v"
   ]
  },
  {
   "cell_type": "code",
   "execution_count": 7,
   "metadata": {},
   "outputs": [
    {
     "data": {
      "text/plain": [
       "array([ 1.28533874, 17.77861033,  3.49368138,  4.6242218 ,  7.58249381])"
      ]
     },
     "execution_count": 7,
     "metadata": {},
     "output_type": "execute_result"
    }
   ],
   "source": [
    "v = v1 / v2\n",
    "v"
   ]
  },
  {
   "cell_type": "markdown",
   "metadata": {},
   "source": [
    "### 2.2 dot product"
   ]
  },
  {
   "cell_type": "code",
   "execution_count": 8,
   "metadata": {},
   "outputs": [
    {
     "data": {
      "text/plain": [
       "10.336183648399292"
      ]
     },
     "execution_count": 8,
     "metadata": {},
     "output_type": "execute_result"
    }
   ],
   "source": [
    "dp = np.dot(v1, v2)\n",
    "dp"
   ]
  },
  {
   "cell_type": "code",
   "execution_count": 9,
   "metadata": {},
   "outputs": [
    {
     "name": "stdout",
     "output_type": "stream",
     "text": [
      "Dot product of two vectors:  10.336183648399292 10.336183648399292  and difference:  0.0\n"
     ]
    }
   ],
   "source": [
    "dot_sum = 0\n",
    "for i in range (v1.shape[0]):\n",
    "    dot_sum += v1[i]*v2[i]\n",
    "print ('Dot product of two vectors: ', dot_sum, dp, ' and difference: ', dot_sum - dp)"
   ]
  },
  {
   "cell_type": "markdown",
   "metadata": {},
   "source": [
    "## 3. Matrix"
   ]
  },
  {
   "cell_type": "code",
   "execution_count": 10,
   "metadata": {},
   "outputs": [
    {
     "data": {
      "text/plain": [
       "array([[0.39871278, 0.55993938, 0.21599858, 0.95166716, 0.8479402 ],\n",
       "       [0.64693416, 0.06976267, 0.98128062, 0.148482  , 0.93595359],\n",
       "       [0.95941715, 0.49385142, 0.75317432, 0.29361608, 0.23563149],\n",
       "       [0.93001901, 0.58493894, 0.61066721, 0.20397832, 0.23291605]])"
      ]
     },
     "execution_count": 10,
     "metadata": {},
     "output_type": "execute_result"
    }
   ],
   "source": [
    "mat1 = np.random.random((rows,cols)) # random in [0, 1)\n",
    "mat1"
   ]
  },
  {
   "cell_type": "code",
   "execution_count": 11,
   "metadata": {},
   "outputs": [
    {
     "data": {
      "text/plain": [
       "((4, 5), dtype('float64'))"
      ]
     },
     "execution_count": 11,
     "metadata": {},
     "output_type": "execute_result"
    }
   ],
   "source": [
    "mat1.shape, mat1.dtype"
   ]
  },
  {
   "cell_type": "code",
   "execution_count": 12,
   "metadata": {},
   "outputs": [
    {
     "data": {
      "text/plain": [
       "array([[0.66474311, 0.84841459, 0.07574252, 0.86351704, 0.59979704],\n",
       "       [0.69388314, 0.04657993, 0.69162106, 0.91788958, 0.53858954],\n",
       "       [0.89212153, 0.96263749, 0.63629206, 0.58231023, 0.92114585],\n",
       "       [0.2979981 , 0.76391106, 0.80053355, 0.85008953, 0.27190003]])"
      ]
     },
     "execution_count": 12,
     "metadata": {},
     "output_type": "execute_result"
    }
   ],
   "source": [
    "mat2 = np.random.random((rows, cols))\n",
    "mat2"
   ]
  },
  {
   "cell_type": "markdown",
   "metadata": {},
   "source": [
    "### 3.1 Element-wise Matrix operations: +, -, *, /"
   ]
  },
  {
   "cell_type": "code",
   "execution_count": 13,
   "metadata": {},
   "outputs": [
    {
     "data": {
      "text/plain": [
       "array([[1.06345589, 1.40835397, 0.2917411 , 1.8151842 , 1.44773724],\n",
       "       [1.3408173 , 0.1163426 , 1.67290168, 1.06637158, 1.47454313],\n",
       "       [1.85153868, 1.4564889 , 1.38946638, 0.87592631, 1.15677734],\n",
       "       [1.22801711, 1.34885   , 1.41120076, 1.05406785, 0.50481608]])"
      ]
     },
     "execution_count": 13,
     "metadata": {},
     "output_type": "execute_result"
    }
   ],
   "source": [
    "m = mat1 + mat2\n",
    "m"
   ]
  },
  {
   "cell_type": "code",
   "execution_count": 14,
   "metadata": {},
   "outputs": [
    {
     "data": {
      "text/plain": [
       "array([[0.26504157, 0.47506074, 0.01636028, 0.82178081, 0.50859202],\n",
       "       [0.44889671, 0.00324954, 0.67867434, 0.13629008, 0.50409481],\n",
       "       [0.85591669, 0.47539989, 0.47923884, 0.17097565, 0.21705097],\n",
       "       [0.2771439 , 0.44684133, 0.48885959, 0.17339984, 0.06332988]])"
      ]
     },
     "execution_count": 14,
     "metadata": {},
     "output_type": "execute_result"
    }
   ],
   "source": [
    "m = mat1 * mat2\n",
    "m"
   ]
  },
  {
   "cell_type": "code",
   "execution_count": 15,
   "metadata": {},
   "outputs": [
    {
     "data": {
      "text/plain": [
       "array([[0.59979979, 0.6599832 , 2.85174791, 1.10208266, 1.41371188],\n",
       "       [0.93233877, 1.49769786, 1.41881253, 0.16176455, 1.73778643],\n",
       "       [1.07543324, 0.5130191 , 1.1836928 , 0.50422621, 0.25580259],\n",
       "       [3.12088909, 0.76571603, 0.76282525, 0.23994923, 0.85662387]])"
      ]
     },
     "execution_count": 15,
     "metadata": {},
     "output_type": "execute_result"
    }
   ],
   "source": [
    "m = mat1 / mat2\n",
    "m"
   ]
  },
  {
   "cell_type": "markdown",
   "metadata": {},
   "source": [
    "### 3.2 Matrix multiplication: @\n",
    "- size constraint must be satisfied\n",
    "- $ A(r,c) \\times B(c, d) = C(r,d) $"
   ]
  },
  {
   "cell_type": "code",
   "execution_count": 16,
   "metadata": {},
   "outputs": [
    {
     "name": "stdout",
     "output_type": "stream",
     "text": [
      "A:  (4, 5) B:  (5, 4)\n"
     ]
    }
   ],
   "source": [
    "# matrix transpose operation\n",
    "mat3 = mat2.T\n",
    "print('A: ', mat1.shape, 'B: ', mat3.shape)"
   ]
  },
  {
   "cell_type": "code",
   "execution_count": 17,
   "metadata": {},
   "outputs": [
    {
     "data": {
      "text/plain": [
       "array([[0.66474311, 0.69388314, 0.89212153, 0.2979981 ],\n",
       "       [0.84841459, 0.04657993, 0.96263749, 0.76391106],\n",
       "       [0.07574252, 0.69162106, 0.63629206, 0.80053355],\n",
       "       [0.86351704, 0.91788958, 0.58231023, 0.85008953],\n",
       "       [0.59979704, 0.53858954, 0.92114585, 0.27190003]])"
      ]
     },
     "execution_count": 17,
     "metadata": {},
     "output_type": "execute_result"
    }
   ],
   "source": [
    "mat3"
   ]
  },
  {
   "cell_type": "code",
   "execution_count": 18,
   "metadata": {},
   "outputs": [
    {
     "data": {
      "text/plain": [
       "array([[2.08683542, 1.78234827, 2.36739919, 1.75903089],\n",
       "       [1.25315628, 1.77120548, 2.21729346, 1.41233448],\n",
       "       [1.50867757, 1.60605397, 2.19858204, 1.57977253],\n",
       "       [1.47658905, 1.40759696, 2.11466515, 1.44957453]])"
      ]
     },
     "execution_count": 18,
     "metadata": {},
     "output_type": "execute_result"
    }
   ],
   "source": [
    "mm = mat1 @ mat3\n",
    "mm"
   ]
  },
  {
   "cell_type": "code",
   "execution_count": 19,
   "metadata": {},
   "outputs": [
    {
     "data": {
      "text/plain": [
       "(4, 4)"
      ]
     },
     "execution_count": 19,
     "metadata": {},
     "output_type": "execute_result"
    }
   ],
   "source": [
    "mm.shape"
   ]
  },
  {
   "cell_type": "code",
   "execution_count": 20,
   "metadata": {},
   "outputs": [
    {
     "data": {
      "text/plain": [
       "(array([0.39871278, 0.55993938, 0.21599858, 0.95166716, 0.8479402 ]),\n",
       " array([0.66474311, 0.84841459, 0.07574252, 0.86351704, 0.59979704]))"
      ]
     },
     "execution_count": 20,
     "metadata": {},
     "output_type": "execute_result"
    }
   ],
   "source": [
    "mat1[0], mat3[:,0]"
   ]
  },
  {
   "cell_type": "code",
   "execution_count": 21,
   "metadata": {},
   "outputs": [
    {
     "name": "stdout",
     "output_type": "stream",
     "text": [
      "This value mm00: 2.086835422362346 must be the same as mm[0,0]: 2.086835422362346\n"
     ]
    }
   ],
   "source": [
    "mm00 = mat1[0].dot(mat3[:,0])\n",
    "print ('This value mm00: {} must be the same as mm[0,0]: {}'.format(mm00, mm[0,0]))"
   ]
  },
  {
   "cell_type": "code",
   "execution_count": 22,
   "metadata": {},
   "outputs": [
    {
     "name": "stdout",
     "output_type": "stream",
     "text": [
      "this means zeros:  0.0\n"
     ]
    }
   ],
   "source": [
    "diff = mm00 - mm[0,0]\n",
    "print ('this means zeros: ', diff)"
   ]
  },
  {
   "cell_type": "markdown",
   "metadata": {},
   "source": [
    "### 3.3 Matrix - Vector Multiplication"
   ]
  },
  {
   "cell_type": "code",
   "execution_count": 23,
   "metadata": {},
   "outputs": [
    {
     "data": {
      "text/plain": [
       "((4, 5), (5,))"
      ]
     },
     "execution_count": 23,
     "metadata": {},
     "output_type": "execute_result"
    }
   ],
   "source": [
    "mat1.shape, v1.shape"
   ]
  },
  {
   "cell_type": "markdown",
   "metadata": {},
   "source": [
    "The dimension of $v_1$ must be $5\\times1$ for the m-v multiplication"
   ]
  },
  {
   "cell_type": "code",
   "execution_count": 24,
   "metadata": {},
   "outputs": [
    {
     "data": {
      "text/plain": [
       "array([[1.],\n",
       "       [2.],\n",
       "       [3.],\n",
       "       [4.],\n",
       "       [5.]])"
      ]
     },
     "execution_count": 24,
     "metadata": {},
     "output_type": "execute_result"
    }
   ],
   "source": [
    "v5x1 = v1[:,np.newaxis]\n",
    "v5x1"
   ]
  },
  {
   "cell_type": "markdown",
   "metadata": {},
   "source": [
    "Now we can compute the multiplication as the definition says."
   ]
  },
  {
   "cell_type": "code",
   "execution_count": 25,
   "metadata": {},
   "outputs": [
    {
     "data": {
      "text/plain": [
       "array([[10.21295691],\n",
       "       [ 9.00399728],\n",
       "       [ 6.55926475],\n",
       "       [ 5.91239208]])"
      ]
     },
     "execution_count": 25,
     "metadata": {},
     "output_type": "execute_result"
    }
   ],
   "source": [
    "mv_5x1 = mat1 @ v5x1\n",
    "mv_5x1"
   ]
  },
  {
   "cell_type": "markdown",
   "metadata": {},
   "source": [
    "#### `Numpy` just does it without dimension extension. I don't recomment this way because it is quite confused."
   ]
  },
  {
   "cell_type": "code",
   "execution_count": 26,
   "metadata": {},
   "outputs": [
    {
     "data": {
      "text/plain": [
       "array([10.21295691,  9.00399728,  6.55926475,  5.91239208])"
      ]
     },
     "execution_count": 26,
     "metadata": {},
     "output_type": "execute_result"
    }
   ],
   "source": [
    "mv1 = mat1 @ v1\n",
    "mv1"
   ]
  },
  {
   "cell_type": "markdown",
   "metadata": {},
   "source": [
    "Notice that the two variables `mv_5x1` and `mv1` have the same values, but different dimensions."
   ]
  },
  {
   "cell_type": "code",
   "execution_count": 27,
   "metadata": {},
   "outputs": [
    {
     "data": {
      "text/plain": [
       "((4,), (4, 1))"
      ]
     },
     "execution_count": 27,
     "metadata": {},
     "output_type": "execute_result"
    }
   ],
   "source": [
    "mv1.shape, mv_5x1.shape"
   ]
  },
  {
   "cell_type": "markdown",
   "metadata": {},
   "source": [
    "#### Warning!"
   ]
  },
  {
   "cell_type": "code",
   "execution_count": 27,
   "metadata": {},
   "outputs": [
    {
     "data": {
      "text/plain": [
       "array([[ 0.        ,  6.32898273,  0.52872064,  2.99761278],\n",
       "       [-6.32898273,  0.        , -5.80026209, -3.33136995],\n",
       "       [-0.52872064,  5.80026209,  0.        ,  2.46889214],\n",
       "       [-2.99761278,  3.33136995, -2.46889214,  0.        ]])"
      ]
     },
     "execution_count": 27,
     "metadata": {},
     "output_type": "execute_result"
    }
   ],
   "source": [
    "# simple subtraction will result in something unexpected!\n",
    "mv1 - mv_5x1"
   ]
  },
  {
   "cell_type": "markdown",
   "metadata": {},
   "source": [
    "#### Warning 2"
   ]
  },
  {
   "cell_type": "code",
   "execution_count": 28,
   "metadata": {},
   "outputs": [
    {
     "data": {
      "text/plain": [
       "array([[ 0.        ,  1.20895963,  3.65369217,  4.30056484],\n",
       "       [-1.20895963,  0.        ,  2.44473254,  3.09160521],\n",
       "       [-3.65369217, -2.44473254,  0.        ,  0.64687267],\n",
       "       [-4.30056484, -3.09160521, -0.64687267,  0.        ]])"
      ]
     },
     "execution_count": 28,
     "metadata": {},
     "output_type": "execute_result"
    }
   ],
   "source": [
    "mv_5x1 - mv1"
   ]
  },
  {
   "cell_type": "markdown",
   "metadata": {},
   "source": [
    "#### Possibly use `squeez` or `newaxis`"
   ]
  },
  {
   "cell_type": "code",
   "execution_count": 30,
   "metadata": {},
   "outputs": [
    {
     "data": {
      "text/plain": [
       "array([0., 0., 0., 0.])"
      ]
     },
     "execution_count": 30,
     "metadata": {},
     "output_type": "execute_result"
    }
   ],
   "source": [
    "# you can use squeeze\n",
    "mv_5x1_sqz = mv_5x1.squeeze(axis=1)\n",
    "mv_5x1_sqz - mv1"
   ]
  },
  {
   "cell_type": "markdown",
   "metadata": {},
   "source": [
    "## 3.4 Matrix Decompositions"
   ]
  },
  {
   "cell_type": "code",
   "execution_count": 31,
   "metadata": {},
   "outputs": [
    {
     "data": {
      "text/plain": [
       "array([[0.803034  , 1.40063131, 1.4362312 , 0.72150439],\n",
       "       [1.40063131, 0.334388  , 1.19815513, 0.70397009],\n",
       "       [1.4362312 , 1.19815513, 1.92772465, 1.16010366],\n",
       "       [0.72150439, 0.70397009, 1.16010366, 1.45436093]])"
      ]
     },
     "execution_count": 31,
     "metadata": {},
     "output_type": "execute_result"
    }
   ],
   "source": [
    "mat = np.random.random((4,4))\n",
    "mat = mat + mat.T # make it symmetric for better understanding\n",
    "mat"
   ]
  },
  {
   "cell_type": "markdown",
   "metadata": {},
   "source": [
    "### Eigen-decomposition"
   ]
  },
  {
   "cell_type": "code",
   "execution_count": 32,
   "metadata": {},
   "outputs": [
    {
     "data": {
      "text/plain": [
       "array([ 4.57925592, -0.85467836,  0.06873724,  0.72619279])"
      ]
     },
     "execution_count": 32,
     "metadata": {},
     "output_type": "execute_result"
    }
   ],
   "source": [
    "ev, em = np.linalg.eig (mat)\n",
    "ev"
   ]
  },
  {
   "cell_type": "code",
   "execution_count": 33,
   "metadata": {},
   "outputs": [
    {
     "data": {
      "text/plain": [
       "array([[-2.44249065e-15, -1.11022302e-15, -1.55431223e-15,\n",
       "        -1.11022302e-15],\n",
       "       [-1.11022302e-15, -4.99600361e-16, -4.44089210e-16,\n",
       "        -3.33066907e-16],\n",
       "       [-1.33226763e-15, -4.44089210e-16, -4.44089210e-16,\n",
       "        -2.22044605e-16],\n",
       "       [-9.99200722e-16, -2.22044605e-16, -2.22044605e-16,\n",
       "         2.22044605e-16]])"
      ]
     },
     "execution_count": 33,
     "metadata": {},
     "output_type": "execute_result"
    }
   ],
   "source": [
    "recon = em @ np.diag (ev) @ em.T\n",
    "recon - mat"
   ]
  },
  {
   "cell_type": "markdown",
   "metadata": {},
   "source": [
    "### Singular Value Decomposition (SVD)"
   ]
  },
  {
   "cell_type": "code",
   "execution_count": 34,
   "metadata": {},
   "outputs": [],
   "source": [
    "u, s, vt = np.linalg.svd(mat)"
   ]
  },
  {
   "cell_type": "code",
   "execution_count": 35,
   "metadata": {},
   "outputs": [
    {
     "data": {
      "text/plain": [
       "array([4.57925592, 0.85467836, 0.72619279, 0.06873724])"
      ]
     },
     "execution_count": 35,
     "metadata": {},
     "output_type": "execute_result"
    }
   ],
   "source": [
    "s"
   ]
  },
  {
   "cell_type": "code",
   "execution_count": 36,
   "metadata": {},
   "outputs": [
    {
     "data": {
      "text/plain": [
       "array([[-3.33066907e-16, -4.44089210e-16, -1.55431223e-15,\n",
       "        -1.11022302e-16],\n",
       "       [-1.55431223e-15, -1.11022302e-16, -1.55431223e-15,\n",
       "        -3.33066907e-16],\n",
       "       [-1.55431223e-15, -2.22044605e-16, -1.55431223e-15,\n",
       "        -6.66133815e-16],\n",
       "       [-6.66133815e-16, -1.11022302e-16, -8.88178420e-16,\n",
       "        -2.22044605e-16]])"
      ]
     },
     "execution_count": 36,
     "metadata": {},
     "output_type": "execute_result"
    }
   ],
   "source": [
    "recon = u @ np.diag(s) @ vt\n",
    "recon - mat"
   ]
  },
  {
   "cell_type": "markdown",
   "metadata": {},
   "source": [
    "#### SVD for a $m\\times n$ matrix ($m > n$)"
   ]
  },
  {
   "cell_type": "code",
   "execution_count": 37,
   "metadata": {},
   "outputs": [
    {
     "data": {
      "text/plain": [
       "array([[0.28268886, 0.59747563, 0.10659661],\n",
       "       [0.28097661, 0.08493189, 0.04469242],\n",
       "       [0.13833209, 0.18742583, 0.07919509],\n",
       "       [0.64213379, 0.08752161, 0.58019476]])"
      ]
     },
     "execution_count": 37,
     "metadata": {},
     "output_type": "execute_result"
    }
   ],
   "source": [
    "mat43 = np.random.random((4,3))\n",
    "mat43"
   ]
  },
  {
   "cell_type": "code",
   "execution_count": 36,
   "metadata": {},
   "outputs": [],
   "source": [
    "u, s, vt = np.linalg.svd (mat43, full_matrices=False)"
   ]
  },
  {
   "cell_type": "code",
   "execution_count": 37,
   "metadata": {},
   "outputs": [
    {
     "data": {
      "text/plain": [
       "((4, 3), (3,), (3, 3))"
      ]
     },
     "execution_count": 37,
     "metadata": {},
     "output_type": "execute_result"
    }
   ],
   "source": [
    "u.shape, s.shape, vt.shape"
   ]
  },
  {
   "cell_type": "code",
   "execution_count": 38,
   "metadata": {},
   "outputs": [
    {
     "data": {
      "text/plain": [
       "array([[ 1.66533454e-16,  4.44089210e-16,  2.77555756e-17],\n",
       "       [-1.94289029e-16,  3.33066907e-16,  2.22044605e-16],\n",
       "       [ 1.11022302e-16, -6.93889390e-18, -5.55111512e-17],\n",
       "       [ 4.44089210e-16,  1.66533454e-16,  0.00000000e+00]])"
      ]
     },
     "execution_count": 38,
     "metadata": {},
     "output_type": "execute_result"
    }
   ],
   "source": [
    "recon = u @ np.diag(s) @ vt\n",
    "recon - mat43"
   ]
  },
  {
   "cell_type": "code",
   "execution_count": 39,
   "metadata": {},
   "outputs": [
    {
     "data": {
      "text/plain": [
       "array([[-0.35683369, -0.33065197,  0.54662544],\n",
       "       [-0.40758108, -0.76001477, -0.45863378],\n",
       "       [-0.45973424,  0.47301054, -0.59176398],\n",
       "       [-0.70369866,  0.2988442 ,  0.37506145]])"
      ]
     },
     "execution_count": 39,
     "metadata": {},
     "output_type": "execute_result"
    }
   ],
   "source": [
    "u"
   ]
  },
  {
   "cell_type": "code",
   "execution_count": 40,
   "metadata": {},
   "outputs": [
    {
     "data": {
      "text/plain": [
       "array([[ 1.00000000e+00, -1.29230700e-16, -2.22439025e-16],\n",
       "       [-1.29230700e-16,  1.00000000e+00,  6.68365100e-17],\n",
       "       [-2.22439025e-16,  6.68365100e-17,  1.00000000e+00]])"
      ]
     },
     "execution_count": 40,
     "metadata": {},
     "output_type": "execute_result"
    }
   ],
   "source": [
    "# u is a unitary (or orthogonal) matrix: the columns are orthogonal to each other, and mag = 1\n",
    "u.T @ u"
   ]
  },
  {
   "cell_type": "code",
   "execution_count": 41,
   "metadata": {},
   "outputs": [
    {
     "data": {
      "text/plain": [
       "array([[ 0.53546038,  0.14603816, -0.31582644,  0.3573081 ],\n",
       "       [ 0.14603816,  0.95408972,  0.09928693, -0.11232759],\n",
       "       [-0.31582644,  0.09928693,  0.78527915,  0.24292297],\n",
       "       [ 0.3573081 , -0.11232759,  0.24292297,  0.72517075]])"
      ]
     },
     "execution_count": 41,
     "metadata": {},
     "output_type": "execute_result"
    }
   ],
   "source": [
    "# but this is not!\n",
    "u @ u.T"
   ]
  },
  {
   "cell_type": "code",
   "execution_count": 42,
   "metadata": {},
   "outputs": [
    {
     "data": {
      "text/plain": [
       "array([[ 1.00000000e+00, -1.99243502e-16, -2.30716939e-16],\n",
       "       [-1.99243502e-16,  1.00000000e+00,  2.62264783e-17],\n",
       "       [-2.30716939e-16,  2.62264783e-17,  1.00000000e+00]])"
      ]
     },
     "execution_count": 42,
     "metadata": {},
     "output_type": "execute_result"
    }
   ],
   "source": [
    "# vt is a unitary and square matrix\n",
    "vt.T @ vt"
   ]
  },
  {
   "cell_type": "code",
   "execution_count": 43,
   "metadata": {},
   "outputs": [
    {
     "data": {
      "text/plain": [
       "array([[ 1.00000000e+00,  4.12115070e-17, -1.48279246e-16],\n",
       "       [ 4.12115070e-17,  1.00000000e+00, -1.81807205e-17],\n",
       "       [-1.48279246e-16, -1.81807205e-17,  1.00000000e+00]])"
      ]
     },
     "execution_count": 43,
     "metadata": {},
     "output_type": "execute_result"
    }
   ],
   "source": [
    "# so this too results in id. matrix\n",
    "vt @ vt.T"
   ]
  },
  {
   "cell_type": "code",
   "execution_count": 44,
   "metadata": {},
   "outputs": [
    {
     "name": "stdout",
     "output_type": "stream",
     "text": [
      "mag:  1.0\n",
      "mag:  1.0000000000000002\n",
      "mag:  1.0000000000000002\n"
     ]
    }
   ],
   "source": [
    "for i in range(vt.shape[0]):\n",
    "    print ('mag: ', np.linalg.norm(vt[i]))"
   ]
  },
  {
   "cell_type": "code",
   "execution_count": 45,
   "metadata": {},
   "outputs": [
    {
     "name": "stdout",
     "output_type": "stream",
     "text": [
      "mag:  1.0000000000000002\n",
      "mag:  1.0000000000000002\n",
      "mag:  1.0\n"
     ]
    }
   ],
   "source": [
    "for i in range(vt.T.shape[0]):\n",
    "    print ('mag: ', np.linalg.norm(vt.T[i]))"
   ]
  },
  {
   "cell_type": "markdown",
   "metadata": {},
   "source": [
    "### Determinant"
   ]
  },
  {
   "cell_type": "code",
   "execution_count": 46,
   "metadata": {},
   "outputs": [
    {
     "data": {
      "text/plain": [
       "(-1.0000000000000007, -1.0000000000000007)"
      ]
     },
     "execution_count": 46,
     "metadata": {},
     "output_type": "execute_result"
    }
   ],
   "source": [
    "np.linalg.det(vt), np.linalg.det(vt.T)"
   ]
  },
  {
   "cell_type": "markdown",
   "metadata": {},
   "source": [
    "### Inverse of non-singular square matrix"
   ]
  },
  {
   "cell_type": "code",
   "execution_count": 39,
   "metadata": {},
   "outputs": [
    {
     "name": "stdout",
     "output_type": "stream",
     "text": [
      "Invertible matrix does have non-zero determinant: -0.1953626993849616\n"
     ]
    }
   ],
   "source": [
    "print ('Invertible matrix does have non-zero determinant:', np.linalg.det( mat ) )"
   ]
  },
  {
   "cell_type": "markdown",
   "metadata": {},
   "source": [
    "#### $A^{-1} \\times A = A \\times A^{-1} = I$"
   ]
  },
  {
   "cell_type": "code",
   "execution_count": 40,
   "metadata": {},
   "outputs": [
    {
     "data": {
      "text/plain": [
       "0.9999999999999996"
      ]
     },
     "execution_count": 40,
     "metadata": {},
     "output_type": "execute_result"
    }
   ],
   "source": [
    "inv = np.linalg.inv (mat)\n",
    "ii = inv @ mat\n",
    "np.linalg.det(ii) # must be 1 since ii is identity matrix"
   ]
  },
  {
   "cell_type": "code",
   "execution_count": 41,
   "metadata": {},
   "outputs": [
    {
     "data": {
      "text/plain": [
       "array([[ 1.00000000e+00,  3.33066907e-16, -8.88178420e-16,\n",
       "        -7.77156117e-16],\n",
       "       [-1.11022302e-15,  1.00000000e+00, -1.11022302e-15,\n",
       "        -1.77635684e-15],\n",
       "       [ 2.22044605e-15, -4.44089210e-16,  1.00000000e+00,\n",
       "         8.88178420e-16],\n",
       "       [ 0.00000000e+00, -2.22044605e-16, -2.22044605e-16,\n",
       "         1.00000000e+00]])"
      ]
     },
     "execution_count": 41,
     "metadata": {},
     "output_type": "execute_result"
    }
   ],
   "source": [
    "ii"
   ]
  },
  {
   "cell_type": "code",
   "execution_count": null,
   "metadata": {},
   "outputs": [],
   "source": []
  },
  {
   "cell_type": "markdown",
   "metadata": {},
   "source": [
    "# END"
   ]
  }
 ],
 "metadata": {
  "kernelspec": {
   "display_name": "Python 3",
   "language": "python",
   "name": "python3"
  },
  "language_info": {
   "codemirror_mode": {
    "name": "ipython",
    "version": 3
   },
   "file_extension": ".py",
   "mimetype": "text/x-python",
   "name": "python",
   "nbconvert_exporter": "python",
   "pygments_lexer": "ipython3",
   "version": "3.7.0"
  }
 },
 "nbformat": 4,
 "nbformat_minor": 2
}

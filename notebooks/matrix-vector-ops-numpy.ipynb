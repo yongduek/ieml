{
 "cells": [
  {
   "cell_type": "code",
   "execution_count": 1,
   "metadata": {},
   "outputs": [],
   "source": [
    "%matplotlib inline\n",
    "import matplotlib.pyplot as plt\n",
    "import seaborn as sns\n",
    "import numpy as np"
   ]
  },
  {
   "cell_type": "markdown",
   "metadata": {},
   "source": [
    "# Matrix operation with `numpy`"
   ]
  },
  {
   "cell_type": "markdown",
   "metadata": {},
   "source": [
    "## 1. definition"
   ]
  },
  {
   "cell_type": "code",
   "execution_count": 2,
   "metadata": {},
   "outputs": [],
   "source": [
    "dim = 5\n",
    "rows = 4\n",
    "cols = 5"
   ]
  },
  {
   "cell_type": "markdown",
   "metadata": {},
   "source": [
    "## 2. Vector"
   ]
  },
  {
   "cell_type": "code",
   "execution_count": 12,
   "metadata": {},
   "outputs": [
    {
     "name": "stdout",
     "output_type": "stream",
     "text": [
      "v1:  [1. 2. 3. 4. 5.] \n",
      "v2:  [0.58154765 0.64397353 0.18150711 0.23752809 0.95577835]\n"
     ]
    }
   ],
   "source": [
    "v1 = np.array([1,2,3,4,5.])\n",
    "v2 = np.random.random(5)\n",
    "print ('v1: ', v1, '\\nv2: ', v2)"
   ]
  },
  {
   "cell_type": "markdown",
   "metadata": {},
   "source": [
    "## 2.1 Element-wise +, -, *, /"
   ]
  },
  {
   "cell_type": "code",
   "execution_count": 13,
   "metadata": {},
   "outputs": [
    {
     "data": {
      "text/plain": [
       "array([1.58154765, 2.64397353, 3.18150711, 4.23752809, 5.95577835])"
      ]
     },
     "execution_count": 13,
     "metadata": {},
     "output_type": "execute_result"
    }
   ],
   "source": [
    "v = v1 + v2\n",
    "v"
   ]
  },
  {
   "cell_type": "code",
   "execution_count": 15,
   "metadata": {},
   "outputs": [
    {
     "data": {
      "text/plain": [
       "array([0.58154765, 1.28794706, 0.54452133, 0.95011238, 4.77889174])"
      ]
     },
     "execution_count": 15,
     "metadata": {},
     "output_type": "execute_result"
    }
   ],
   "source": [
    "v = v1 * v2\n",
    "v"
   ]
  },
  {
   "cell_type": "code",
   "execution_count": 16,
   "metadata": {},
   "outputs": [
    {
     "data": {
      "text/plain": [
       "array([ 1.71954956,  3.10571771, 16.52827812, 16.84011317,  5.23133843])"
      ]
     },
     "execution_count": 16,
     "metadata": {},
     "output_type": "execute_result"
    }
   ],
   "source": [
    "v = v1 / v2\n",
    "v"
   ]
  },
  {
   "cell_type": "markdown",
   "metadata": {},
   "source": [
    "### 2.2 dot product"
   ]
  },
  {
   "cell_type": "code",
   "execution_count": 43,
   "metadata": {},
   "outputs": [
    {
     "data": {
      "text/plain": [
       "8.143020153942452"
      ]
     },
     "execution_count": 43,
     "metadata": {},
     "output_type": "execute_result"
    }
   ],
   "source": [
    "dp = np.dot(v1, v2)\n",
    "dp"
   ]
  },
  {
   "cell_type": "code",
   "execution_count": 45,
   "metadata": {},
   "outputs": [
    {
     "name": "stdout",
     "output_type": "stream",
     "text": [
      "Dot product of two vectors:  8.143020153942452 8.143020153942452  and difference:  0.0\n"
     ]
    }
   ],
   "source": [
    "dot_sum = 0\n",
    "for i in range (v1.shape[0]):\n",
    "    dot_sum += v1[i]*v2[i]\n",
    "print ('Dot product of two vectors: ', dot_sum, dp, ' and difference: ', dot_sum - dp)"
   ]
  },
  {
   "cell_type": "markdown",
   "metadata": {},
   "source": [
    "## 3. Matrix"
   ]
  },
  {
   "cell_type": "code",
   "execution_count": 7,
   "metadata": {},
   "outputs": [
    {
     "data": {
      "text/plain": [
       "array([[0.63618784, 0.5729108 , 0.12698371, 0.75403451, 0.51292941],\n",
       "       [0.73995851, 0.76302034, 0.04781376, 0.60116906, 0.47542164],\n",
       "       [0.09566303, 0.60235683, 0.00413574, 0.10844392, 0.02509737],\n",
       "       [0.03470299, 0.2661915 , 0.44971789, 0.26195658, 0.10764769]])"
      ]
     },
     "execution_count": 7,
     "metadata": {},
     "output_type": "execute_result"
    }
   ],
   "source": [
    "mat1 = np.random.random((rows,cols)) # random in [0, 1)\n",
    "mat1"
   ]
  },
  {
   "cell_type": "code",
   "execution_count": 25,
   "metadata": {},
   "outputs": [
    {
     "data": {
      "text/plain": [
       "((4, 5), dtype('float64'))"
      ]
     },
     "execution_count": 25,
     "metadata": {},
     "output_type": "execute_result"
    }
   ],
   "source": [
    "mat1.shape, mat1.dtype"
   ]
  },
  {
   "cell_type": "code",
   "execution_count": 8,
   "metadata": {},
   "outputs": [
    {
     "data": {
      "text/plain": [
       "array([[0.00578983, 0.51070896, 0.60682532, 0.38014173, 0.7881372 ],\n",
       "       [0.25014527, 0.08218338, 0.78042585, 0.68079187, 0.32073964],\n",
       "       [0.96314436, 0.35094065, 0.17994085, 0.52446271, 0.96251401],\n",
       "       [0.88965735, 0.8589889 , 0.51257492, 0.57069585, 0.48683036]])"
      ]
     },
     "execution_count": 8,
     "metadata": {},
     "output_type": "execute_result"
    }
   ],
   "source": [
    "mat2 = np.random.random((rows, cols))\n",
    "mat2"
   ]
  },
  {
   "cell_type": "markdown",
   "metadata": {},
   "source": [
    "### 3.1 Element-wise Matrix operations: +, -, *, /"
   ]
  },
  {
   "cell_type": "code",
   "execution_count": 18,
   "metadata": {},
   "outputs": [
    {
     "data": {
      "text/plain": [
       "array([[0.64197767, 1.08361976, 0.73380902, 1.13417624, 1.30106661],\n",
       "       [0.99010378, 0.84520373, 0.82823961, 1.28196093, 0.79616128],\n",
       "       [1.05880739, 0.95329748, 0.18407659, 0.63290663, 0.98761138],\n",
       "       [0.92436034, 1.1251804 , 0.9622928 , 0.83265243, 0.59447805]])"
      ]
     },
     "execution_count": 18,
     "metadata": {},
     "output_type": "execute_result"
    }
   ],
   "source": [
    "m = mat1 + mat2\n",
    "m"
   ]
  },
  {
   "cell_type": "code",
   "execution_count": 23,
   "metadata": {},
   "outputs": [
    {
     "data": {
      "text/plain": [
       "array([[0.00368342, 0.29259068, 0.07705693, 0.28663998, 0.40425875],\n",
       "       [0.18509712, 0.06270759, 0.03731509, 0.40927101, 0.15248657],\n",
       "       [0.09213731, 0.2113915 , 0.00074419, 0.05687479, 0.02415657],\n",
       "       [0.03087377, 0.22865555, 0.23051411, 0.14949753, 0.05240617]])"
      ]
     },
     "execution_count": 23,
     "metadata": {},
     "output_type": "execute_result"
    }
   ],
   "source": [
    "m = mat1 * mat2\n",
    "m"
   ]
  },
  {
   "cell_type": "code",
   "execution_count": 24,
   "metadata": {},
   "outputs": [
    {
     "data": {
      "text/plain": [
       "array([[1.09880264e+02, 1.12179507e+00, 2.09259075e-01, 1.98356153e+00,\n",
       "        6.50812332e-01],\n",
       "       [2.95811513e+00, 9.28436268e+00, 6.12662380e-02, 8.83043827e-01,\n",
       "        1.48226656e+00],\n",
       "       [9.93236686e-02, 1.71640656e+00, 2.29839086e-02, 2.06771465e-01,\n",
       "        2.60748075e-02],\n",
       "       [3.90071395e-02, 3.09889341e-01, 8.77370060e-01, 4.59012582e-01,\n",
       "        2.21119520e-01]])"
      ]
     },
     "execution_count": 24,
     "metadata": {},
     "output_type": "execute_result"
    }
   ],
   "source": [
    "m = mat1 / mat2\n",
    "m"
   ]
  },
  {
   "cell_type": "markdown",
   "metadata": {},
   "source": [
    "### 3.2 Matrix multiplication: @\n",
    "- size constraint must be satisfied\n",
    "- $ A(r,c) \\times B(c, d) = C(r,d) $"
   ]
  },
  {
   "cell_type": "code",
   "execution_count": 127,
   "metadata": {},
   "outputs": [
    {
     "name": "stdout",
     "output_type": "stream",
     "text": [
      "A:  (4, 5) B:  (5, 4)\n"
     ]
    }
   ],
   "source": [
    "# matrix transpose operation\n",
    "mat3 = mat2.T\n",
    "print('A: ', mat1.shape, 'B: ', mat3.shape)"
   ]
  },
  {
   "cell_type": "code",
   "execution_count": 27,
   "metadata": {},
   "outputs": [
    {
     "data": {
      "text/plain": [
       "array([[0.00578983, 0.25014527, 0.96314436, 0.88965735],\n",
       "       [0.51070896, 0.08218338, 0.35094065, 0.8589889 ],\n",
       "       [0.60682532, 0.78042585, 0.17994085, 0.51257492],\n",
       "       [0.38014173, 0.68079187, 0.52446271, 0.57069585],\n",
       "       [0.7881372 , 0.32073964, 0.96251401, 0.48683036]])"
      ]
     },
     "execution_count": 27,
     "metadata": {},
     "output_type": "execute_result"
    }
   ],
   "source": [
    "mat3"
   ]
  },
  {
   "cell_type": "code",
   "execution_count": 31,
   "metadata": {},
   "outputs": [
    {
     "data": {
      "text/plain": [
       "array([[1.06422976, 0.98318186, 1.7258127 , 1.80323584],\n",
       "       [1.02620709, 0.84687738, 1.76195612, 1.91277805],\n",
       "       [0.37169681, 0.15853848, 0.38530436, 0.67875169],\n",
       "       [0.59346929, 0.59439356, 0.44876289, 0.69194712]])"
      ]
     },
     "execution_count": 31,
     "metadata": {},
     "output_type": "execute_result"
    }
   ],
   "source": [
    "mm = mat1 @ mat3\n",
    "mm"
   ]
  },
  {
   "cell_type": "code",
   "execution_count": 32,
   "metadata": {},
   "outputs": [
    {
     "data": {
      "text/plain": [
       "(4, 4)"
      ]
     },
     "execution_count": 32,
     "metadata": {},
     "output_type": "execute_result"
    }
   ],
   "source": [
    "mm.shape"
   ]
  },
  {
   "cell_type": "code",
   "execution_count": 34,
   "metadata": {},
   "outputs": [
    {
     "data": {
      "text/plain": [
       "(array([0.63618784, 0.5729108 , 0.12698371, 0.75403451, 0.51292941]),\n",
       " array([0.00578983, 0.51070896, 0.60682532, 0.38014173, 0.7881372 ]))"
      ]
     },
     "execution_count": 34,
     "metadata": {},
     "output_type": "execute_result"
    }
   ],
   "source": [
    "mat1[0], mat3[:,0]"
   ]
  },
  {
   "cell_type": "code",
   "execution_count": 37,
   "metadata": {},
   "outputs": [
    {
     "name": "stdout",
     "output_type": "stream",
     "text": [
      "This value mm00: 1.0642297607951565 must be the same as mm[0,0]: 1.0642297607951563\n"
     ]
    }
   ],
   "source": [
    "mm00 = mat1[0].dot(mat3[:,0])\n",
    "print ('This value mm00: {} must be the same as mm[0,0]: {}'.format(mm00, mm[0,0]))"
   ]
  },
  {
   "cell_type": "code",
   "execution_count": 39,
   "metadata": {},
   "outputs": [
    {
     "name": "stdout",
     "output_type": "stream",
     "text": [
      "this means zeros:  2.220446049250313e-16\n"
     ]
    }
   ],
   "source": [
    "diff = mm00 - mm[0,0]\n",
    "print ('this means zeros: ', diff)"
   ]
  },
  {
   "cell_type": "markdown",
   "metadata": {},
   "source": [
    "### 3.3 Matrix - Vector Multiplication"
   ]
  },
  {
   "cell_type": "code",
   "execution_count": 46,
   "metadata": {},
   "outputs": [
    {
     "data": {
      "text/plain": [
       "((4, 5), (5,))"
      ]
     },
     "execution_count": 46,
     "metadata": {},
     "output_type": "execute_result"
    }
   ],
   "source": [
    "mat1.shape, v1.shape"
   ]
  },
  {
   "cell_type": "markdown",
   "metadata": {},
   "source": [
    "The dimension of $v_1$ must be $5\\times1$ for the m-v multiplication"
   ]
  },
  {
   "cell_type": "code",
   "execution_count": 58,
   "metadata": {},
   "outputs": [
    {
     "data": {
      "text/plain": [
       "array([[1.],\n",
       "       [2.],\n",
       "       [3.],\n",
       "       [4.],\n",
       "       [5.]])"
      ]
     },
     "execution_count": 58,
     "metadata": {},
     "output_type": "execute_result"
    }
   ],
   "source": [
    "v5x1 = v1[:,np.newaxis]\n",
    "v5x1"
   ]
  },
  {
   "cell_type": "markdown",
   "metadata": {},
   "source": [
    "Now we can compute the multiplication as the definition says."
   ]
  },
  {
   "cell_type": "code",
   "execution_count": 61,
   "metadata": {},
   "outputs": [
    {
     "data": {
      "text/plain": [
       "array([[7.74374565],\n",
       "       [7.19122493],\n",
       "       [1.87204646],\n",
       "       [3.50230443]])"
      ]
     },
     "execution_count": 61,
     "metadata": {},
     "output_type": "execute_result"
    }
   ],
   "source": [
    "mv_5x1 = mat1 @ v5x1\n",
    "mv_5x1"
   ]
  },
  {
   "cell_type": "markdown",
   "metadata": {},
   "source": [
    "- `Numpy` just do it without dimension extension. I don't recomment it if you feel confused."
   ]
  },
  {
   "cell_type": "code",
   "execution_count": 63,
   "metadata": {},
   "outputs": [
    {
     "data": {
      "text/plain": [
       "array([7.74374565, 7.19122493, 1.87204646, 3.50230443])"
      ]
     },
     "execution_count": 63,
     "metadata": {},
     "output_type": "execute_result"
    }
   ],
   "source": [
    "mv1 = mat1 @ v1\n",
    "mv1"
   ]
  },
  {
   "cell_type": "markdown",
   "metadata": {},
   "source": [
    "Notice that the two variables `mv_5x1` and `mv1` have the same values, but different dimensions."
   ]
  },
  {
   "cell_type": "code",
   "execution_count": 64,
   "metadata": {},
   "outputs": [
    {
     "data": {
      "text/plain": [
       "((4,), (4, 1))"
      ]
     },
     "execution_count": 64,
     "metadata": {},
     "output_type": "execute_result"
    }
   ],
   "source": [
    "mv1.shape, mv_5x1.shape"
   ]
  },
  {
   "cell_type": "code",
   "execution_count": 67,
   "metadata": {},
   "outputs": [
    {
     "data": {
      "text/plain": [
       "array([[ 0.        , -0.55252073, -5.8716992 , -4.24144122],\n",
       "       [ 0.55252073,  0.        , -5.31917847, -3.6889205 ],\n",
       "       [ 5.8716992 ,  5.31917847,  0.        ,  1.63025798],\n",
       "       [ 4.24144122,  3.6889205 , -1.63025798,  0.        ]])"
      ]
     },
     "execution_count": 67,
     "metadata": {},
     "output_type": "execute_result"
    }
   ],
   "source": [
    "# simple subtraction will result in something unexpected!\n",
    "mv1 - mv_5x1"
   ]
  },
  {
   "cell_type": "code",
   "execution_count": 69,
   "metadata": {},
   "outputs": [
    {
     "data": {
      "text/plain": [
       "array([7.74374565, 7.19122493, 1.87204646, 3.50230443])"
      ]
     },
     "execution_count": 69,
     "metadata": {},
     "output_type": "execute_result"
    }
   ],
   "source": [
    "# you can use squeeze\n",
    "mv_5x1_sqz = mv_5x1.squeeze(axis=1)\n",
    "mv_5x1_sqz"
   ]
  },
  {
   "cell_type": "markdown",
   "metadata": {},
   "source": [
    "### 3.4 Matrix Decompositions"
   ]
  },
  {
   "cell_type": "code",
   "execution_count": 74,
   "metadata": {},
   "outputs": [
    {
     "data": {
      "text/plain": [
       "array([[0.0713133 , 1.69201849, 0.48242949, 0.92747879],\n",
       "       [1.69201849, 1.17420144, 0.15699607, 1.22035258],\n",
       "       [0.48242949, 0.15699607, 1.04091717, 1.05078492],\n",
       "       [0.92747879, 1.22035258, 1.05078492, 0.13638052]])"
      ]
     },
     "execution_count": 74,
     "metadata": {},
     "output_type": "execute_result"
    }
   ],
   "source": [
    "mat = np.random.random((4,4))\n",
    "mat = mat + mat.T # make it symmetric for better understanding\n",
    "mat"
   ]
  },
  {
   "cell_type": "markdown",
   "metadata": {},
   "source": [
    "#### Eigen-decomposition"
   ]
  },
  {
   "cell_type": "code",
   "execution_count": 83,
   "metadata": {},
   "outputs": [
    {
     "data": {
      "text/plain": [
       "array([ 3.48435121,  1.07770379, -1.21708699, -0.92215559])"
      ]
     },
     "execution_count": 83,
     "metadata": {},
     "output_type": "execute_result"
    }
   ],
   "source": [
    "ev, em = np.linalg.eig (mat)\n",
    "ev"
   ]
  },
  {
   "cell_type": "code",
   "execution_count": 84,
   "metadata": {},
   "outputs": [
    {
     "data": {
      "text/plain": [
       "array([[-2.05391260e-15, -6.66133815e-16, -2.22044605e-16,\n",
       "        -4.44089210e-16],\n",
       "       [-8.88178420e-16,  0.00000000e+00,  4.71844785e-16,\n",
       "         2.22044605e-16],\n",
       "       [-2.22044605e-16,  5.82867088e-16, -4.44089210e-16,\n",
       "        -6.66133815e-16],\n",
       "       [-2.22044605e-16,  4.44089210e-16, -6.66133815e-16,\n",
       "        -2.22044605e-16]])"
      ]
     },
     "execution_count": 84,
     "metadata": {},
     "output_type": "execute_result"
    }
   ],
   "source": [
    "recon = em @ np.diag (ev) @ em.T\n",
    "recon - mat"
   ]
  },
  {
   "cell_type": "markdown",
   "metadata": {},
   "source": [
    "#### Singular Value Decomposition (SVD)"
   ]
  },
  {
   "cell_type": "code",
   "execution_count": 85,
   "metadata": {},
   "outputs": [],
   "source": [
    "u, s, vt = np.linalg.svd(mat)"
   ]
  },
  {
   "cell_type": "code",
   "execution_count": 86,
   "metadata": {},
   "outputs": [
    {
     "data": {
      "text/plain": [
       "array([3.48435121, 1.21708699, 1.07770379, 0.92215559])"
      ]
     },
     "execution_count": 86,
     "metadata": {},
     "output_type": "execute_result"
    }
   ],
   "source": [
    "s"
   ]
  },
  {
   "cell_type": "code",
   "execution_count": 87,
   "metadata": {},
   "outputs": [
    {
     "data": {
      "text/plain": [
       "array([[-2.77555756e-17, -8.88178420e-16, -2.22044605e-16,\n",
       "        -4.44089210e-16],\n",
       "       [-4.44089210e-16, -2.22044605e-16,  2.22044605e-16,\n",
       "        -6.66133815e-16],\n",
       "       [-2.77555756e-16, -1.94289029e-16, -6.66133815e-16,\n",
       "         0.00000000e+00],\n",
       "       [ 1.11022302e-16, -4.44089210e-16, -4.44089210e-16,\n",
       "         2.49800181e-16]])"
      ]
     },
     "execution_count": 87,
     "metadata": {},
     "output_type": "execute_result"
    }
   ],
   "source": [
    "recon = u @ np.diag(s) @ vt\n",
    "recon - mat"
   ]
  },
  {
   "cell_type": "markdown",
   "metadata": {},
   "source": [
    "SVD for a $m\\times n$ matrix"
   ]
  },
  {
   "cell_type": "code",
   "execution_count": 100,
   "metadata": {},
   "outputs": [
    {
     "data": {
      "text/plain": [
       "array([[0.5837292 , 0.84594617, 0.32589844],\n",
       "       [0.84651713, 0.46787288, 0.34357731],\n",
       "       [0.62449203, 0.80695352, 0.67992135],\n",
       "       [0.5456931 , 0.92357129, 0.15904557]])"
      ]
     },
     "execution_count": 100,
     "metadata": {},
     "output_type": "execute_result"
    }
   ],
   "source": [
    "mat43 = np.random.random((4,3))\n",
    "mat43"
   ]
  },
  {
   "cell_type": "code",
   "execution_count": 103,
   "metadata": {},
   "outputs": [],
   "source": [
    "u, s, vt = np.linalg.svd (mat43, full_matrices=False)"
   ]
  },
  {
   "cell_type": "code",
   "execution_count": 104,
   "metadata": {},
   "outputs": [
    {
     "data": {
      "text/plain": [
       "((4, 3), (3,), (3, 3))"
      ]
     },
     "execution_count": 104,
     "metadata": {},
     "output_type": "execute_result"
    }
   ],
   "source": [
    "u.shape, s.shape, vt.shape"
   ]
  },
  {
   "cell_type": "code",
   "execution_count": 105,
   "metadata": {},
   "outputs": [
    {
     "data": {
      "text/plain": [
       "array([[ 0.00000000e+00, -3.33066907e-16, -1.66533454e-16],\n",
       "       [ 2.22044605e-16, -2.22044605e-16,  1.66533454e-16],\n",
       "       [ 0.00000000e+00, -2.22044605e-16,  1.11022302e-16],\n",
       "       [-1.11022302e-16, -1.11022302e-16, -2.22044605e-16]])"
      ]
     },
     "execution_count": 105,
     "metadata": {},
     "output_type": "execute_result"
    }
   ],
   "source": [
    "recon = u @ np.diag(s) @ vt\n",
    "recon - mat43"
   ]
  },
  {
   "cell_type": "code",
   "execution_count": 106,
   "metadata": {},
   "outputs": [
    {
     "data": {
      "text/plain": [
       "array([[-0.49960054, -0.27131406, -0.01033542],\n",
       "       [-0.4501305 ,  0.67727464, -0.57913804],\n",
       "       [-0.55753374,  0.25153317,  0.75184489],\n",
       "       [-0.48676273, -0.63593931, -0.31499457]])"
      ]
     },
     "execution_count": 106,
     "metadata": {},
     "output_type": "execute_result"
    }
   ],
   "source": [
    "u"
   ]
  },
  {
   "cell_type": "code",
   "execution_count": 113,
   "metadata": {},
   "outputs": [
    {
     "data": {
      "text/plain": [
       "array([[ 1.00000000e+00, -4.79618855e-17,  7.58104736e-17],\n",
       "       [-4.79618855e-17,  1.00000000e+00, -7.11705519e-17],\n",
       "       [ 7.58104736e-17, -7.11705519e-17,  1.00000000e+00]])"
      ]
     },
     "execution_count": 113,
     "metadata": {},
     "output_type": "execute_result"
    }
   ],
   "source": [
    "# u is a unitary (or orthogonal) matrix: the columns are orthogonal to each other, and mag = 1\n",
    "u.T @ u"
   ]
  },
  {
   "cell_type": "code",
   "execution_count": 109,
   "metadata": {},
   "outputs": [
    {
     "data": {
      "text/plain": [
       "array([[ 0.32331884,  0.04711695,  0.20252905,  0.4189818 ],\n",
       "       [ 0.04711695,  0.99671927, -0.01410199, -0.02917348],\n",
       "       [ 0.20252905, -0.01410199,  0.93938354, -0.12540025],\n",
       "       [ 0.4189818 , -0.02917348, -0.12540025,  0.74057834]])"
      ]
     },
     "execution_count": 109,
     "metadata": {},
     "output_type": "execute_result"
    }
   ],
   "source": [
    "# but this is not!\n",
    "u @ u.T"
   ]
  },
  {
   "cell_type": "code",
   "execution_count": 120,
   "metadata": {},
   "outputs": [
    {
     "data": {
      "text/plain": [
       "array([[ 1.00000000e+00, -1.49052605e-16,  4.24694880e-17],\n",
       "       [-1.49052605e-16,  1.00000000e+00, -2.44365700e-16],\n",
       "       [ 4.24694880e-17, -2.44365700e-16,  1.00000000e+00]])"
      ]
     },
     "execution_count": 120,
     "metadata": {},
     "output_type": "execute_result"
    }
   ],
   "source": [
    "# vt is a unitary and square matrix\n",
    "vt.T @ vt"
   ]
  },
  {
   "cell_type": "code",
   "execution_count": 121,
   "metadata": {},
   "outputs": [
    {
     "data": {
      "text/plain": [
       "array([[ 1.00000000e+00, -1.62959673e-16, -3.67352144e-17],\n",
       "       [-1.62959673e-16,  1.00000000e+00,  2.85891092e-16],\n",
       "       [-3.67352144e-17,  2.85891092e-16,  1.00000000e+00]])"
      ]
     },
     "execution_count": 121,
     "metadata": {},
     "output_type": "execute_result"
    }
   ],
   "source": [
    "# so this too results in id. matrix\n",
    "vt @ vt.T"
   ]
  },
  {
   "cell_type": "code",
   "execution_count": 125,
   "metadata": {},
   "outputs": [
    {
     "name": "stdout",
     "output_type": "stream",
     "text": [
      "mag:  1.0\n",
      "mag:  1.0000000000000002\n",
      "mag:  1.0000000000000002\n"
     ]
    }
   ],
   "source": [
    "for i in range(vt.shape[0]):\n",
    "    print ('mag: ', np.linalg.norm(vt[i]))"
   ]
  },
  {
   "cell_type": "code",
   "execution_count": 126,
   "metadata": {},
   "outputs": [
    {
     "name": "stdout",
     "output_type": "stream",
     "text": [
      "mag:  1.0\n",
      "mag:  1.0\n",
      "mag:  1.0000000000000004\n"
     ]
    }
   ],
   "source": [
    "for i in range(vt.T.shape[0]):\n",
    "    print ('mag: ', np.linalg.norm(vt.T[i]))"
   ]
  },
  {
   "cell_type": "markdown",
   "metadata": {},
   "source": [
    "#### Determinant"
   ]
  },
  {
   "cell_type": "code",
   "execution_count": 129,
   "metadata": {},
   "outputs": [
    {
     "data": {
      "text/plain": [
       "(1.0000000000000004, 1.0000000000000007)"
      ]
     },
     "execution_count": 129,
     "metadata": {},
     "output_type": "execute_result"
    }
   ],
   "source": [
    "np.linalg.det(vt), np.linalg.det(vt.T)"
   ]
  },
  {
   "cell_type": "markdown",
   "metadata": {},
   "source": [
    "#### Inverse of non-singular square matrix"
   ]
  },
  {
   "cell_type": "code",
   "execution_count": 138,
   "metadata": {},
   "outputs": [
    {
     "data": {
      "text/plain": [
       "4.214510644309093"
      ]
     },
     "execution_count": 138,
     "metadata": {},
     "output_type": "execute_result"
    }
   ],
   "source": [
    "np.linalg.det( mat ) "
   ]
  },
  {
   "cell_type": "code",
   "execution_count": 140,
   "metadata": {},
   "outputs": [
    {
     "data": {
      "text/plain": [
       "array([[ 1.00000000e+00,  1.70275839e-16,  1.03878768e-16,\n",
       "         6.90828037e-17],\n",
       "       [ 1.36593327e-17,  1.00000000e+00, -9.03953211e-17,\n",
       "        -1.02775599e-16],\n",
       "       [ 6.73334169e-18, -6.56488945e-17,  1.00000000e+00,\n",
       "         2.47696350e-17],\n",
       "       [ 2.76455308e-17, -1.01139476e-16,  3.75252671e-17,\n",
       "         1.00000000e+00]])"
      ]
     },
     "execution_count": 140,
     "metadata": {},
     "output_type": "execute_result"
    }
   ],
   "source": [
    "inv = np.linalg.inv (mat)\n",
    "ii = inv @ mat\n"
   ]
  },
  {
   "cell_type": "markdown",
   "metadata": {},
   "source": [
    "# END"
   ]
  }
 ],
 "metadata": {
  "kernelspec": {
   "display_name": "Python 3",
   "language": "python",
   "name": "python3"
  },
  "language_info": {
   "codemirror_mode": {
    "name": "ipython",
    "version": 3
   },
   "file_extension": ".py",
   "mimetype": "text/x-python",
   "name": "python",
   "nbconvert_exporter": "python",
   "pygments_lexer": "ipython3",
   "version": "3.6.8"
  }
 },
 "nbformat": 4,
 "nbformat_minor": 2
}

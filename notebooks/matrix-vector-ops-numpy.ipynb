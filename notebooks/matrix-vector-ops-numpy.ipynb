{
 "cells": [
  {
   "cell_type": "code",
   "execution_count": 3,
   "metadata": {},
   "outputs": [],
   "source": [
    "%matplotlib inline\n",
    "import matplotlib.pyplot as plt\n",
    "import seaborn as sns\n",
    "import numpy as np"
   ]
  },
  {
   "cell_type": "markdown",
   "metadata": {},
   "source": [
    "# Matrix operation with `numpy`"
   ]
  },
  {
   "cell_type": "markdown",
   "metadata": {},
   "source": [
    "## 1. definition"
   ]
  },
  {
   "cell_type": "code",
   "execution_count": 4,
   "metadata": {},
   "outputs": [],
   "source": [
    "dim = 5\n",
    "rows = 4\n",
    "cols = 5"
   ]
  },
  {
   "cell_type": "markdown",
   "metadata": {},
   "source": [
    "## 2. Vector"
   ]
  },
  {
   "cell_type": "code",
   "execution_count": 5,
   "metadata": {},
   "outputs": [
    {
     "name": "stdout",
     "output_type": "stream",
     "text": [
      "v1:  [1. 2. 3. 4. 5.] \n",
      "v2:  [0.96839767 0.86294274 0.16883232 0.84134748 0.6111386 ]\n"
     ]
    }
   ],
   "source": [
    "v1 = np.array([1,2,3,4,5.])\n",
    "v2 = np.random.random(5)\n",
    "print ('v1: ', v1, '\\nv2: ', v2)"
   ]
  },
  {
   "cell_type": "markdown",
   "metadata": {},
   "source": [
    "## 2.1 Element-wise +, -, *, /"
   ]
  },
  {
   "cell_type": "code",
   "execution_count": 6,
   "metadata": {},
   "outputs": [
    {
     "data": {
      "text/plain": [
       "array([1.96839767, 2.86294274, 3.16883232, 4.84134748, 5.6111386 ])"
      ]
     },
     "execution_count": 6,
     "metadata": {},
     "output_type": "execute_result"
    }
   ],
   "source": [
    "v = v1 + v2\n",
    "v"
   ]
  },
  {
   "cell_type": "code",
   "execution_count": 7,
   "metadata": {},
   "outputs": [
    {
     "data": {
      "text/plain": [
       "array([0.96839767, 1.72588547, 0.50649695, 3.36538992, 3.05569301])"
      ]
     },
     "execution_count": 7,
     "metadata": {},
     "output_type": "execute_result"
    }
   ],
   "source": [
    "v = v1 * v2\n",
    "v"
   ]
  },
  {
   "cell_type": "code",
   "execution_count": 8,
   "metadata": {},
   "outputs": [
    {
     "data": {
      "text/plain": [
       "array([ 1.03263363,  2.31765089, 17.76910991,  4.75427822,  8.18145013])"
      ]
     },
     "execution_count": 8,
     "metadata": {},
     "output_type": "execute_result"
    }
   ],
   "source": [
    "v = v1 / v2\n",
    "v"
   ]
  },
  {
   "cell_type": "markdown",
   "metadata": {},
   "source": [
    "### 2.2 dot product"
   ]
  },
  {
   "cell_type": "code",
   "execution_count": 9,
   "metadata": {},
   "outputs": [
    {
     "data": {
      "text/plain": [
       "9.621863029981384"
      ]
     },
     "execution_count": 9,
     "metadata": {},
     "output_type": "execute_result"
    }
   ],
   "source": [
    "dp = np.dot(v1, v2)\n",
    "dp"
   ]
  },
  {
   "cell_type": "code",
   "execution_count": 10,
   "metadata": {},
   "outputs": [
    {
     "name": "stdout",
     "output_type": "stream",
     "text": [
      "Dot product of two vectors:  9.621863029981384 9.621863029981384  and difference:  0.0\n"
     ]
    }
   ],
   "source": [
    "dot_sum = 0\n",
    "for i in range (v1.shape[0]):\n",
    "    dot_sum += v1[i]*v2[i]\n",
    "print ('Dot product of two vectors: ', dot_sum, dp, ' and difference: ', dot_sum - dp)"
   ]
  },
  {
   "cell_type": "markdown",
   "metadata": {},
   "source": [
    "## 3. Matrix"
   ]
  },
  {
   "cell_type": "code",
   "execution_count": 11,
   "metadata": {},
   "outputs": [
    {
     "data": {
      "text/plain": [
       "array([[0.47882586, 0.48708791, 0.67513717, 0.73173321, 0.38577117],\n",
       "       [0.24026128, 0.55339373, 0.76819294, 0.60960125, 0.82801591],\n",
       "       [0.89142209, 0.73659953, 0.36952776, 0.59511643, 0.31274055],\n",
       "       [0.38704206, 0.8753467 , 0.55479701, 0.69367745, 0.48370398]])"
      ]
     },
     "execution_count": 11,
     "metadata": {},
     "output_type": "execute_result"
    }
   ],
   "source": [
    "mat1 = np.random.random((rows,cols)) # random in [0, 1)\n",
    "mat1"
   ]
  },
  {
   "cell_type": "code",
   "execution_count": 12,
   "metadata": {},
   "outputs": [
    {
     "data": {
      "text/plain": [
       "((4, 5), dtype('float64'))"
      ]
     },
     "execution_count": 12,
     "metadata": {},
     "output_type": "execute_result"
    }
   ],
   "source": [
    "mat1.shape, mat1.dtype"
   ]
  },
  {
   "cell_type": "code",
   "execution_count": 13,
   "metadata": {},
   "outputs": [
    {
     "data": {
      "text/plain": [
       "array([[0.17285369, 0.14556171, 0.00799738, 0.0559881 , 0.84507198],\n",
       "       [0.61007987, 0.85325287, 0.14981281, 0.00949786, 0.58176072],\n",
       "       [0.54439929, 0.15545073, 0.97371055, 0.16742522, 0.86078956],\n",
       "       [0.85187684, 0.5987436 , 0.82606552, 0.92325347, 0.63998812]])"
      ]
     },
     "execution_count": 13,
     "metadata": {},
     "output_type": "execute_result"
    }
   ],
   "source": [
    "mat2 = np.random.random((rows, cols))\n",
    "mat2"
   ]
  },
  {
   "cell_type": "markdown",
   "metadata": {},
   "source": [
    "### 3.1 Element-wise Matrix operations: +, -, *, /"
   ]
  },
  {
   "cell_type": "code",
   "execution_count": 14,
   "metadata": {},
   "outputs": [
    {
     "data": {
      "text/plain": [
       "array([[0.65167955, 0.63264962, 0.68313455, 0.78772131, 1.23084315],\n",
       "       [0.85034115, 1.4066466 , 0.91800575, 0.61909911, 1.40977663],\n",
       "       [1.43582138, 0.89205026, 1.34323831, 0.76254165, 1.17353011],\n",
       "       [1.2389189 , 1.4740903 , 1.38086253, 1.61693092, 1.12369211]])"
      ]
     },
     "execution_count": 14,
     "metadata": {},
     "output_type": "execute_result"
    }
   ],
   "source": [
    "m = mat1 + mat2\n",
    "m"
   ]
  },
  {
   "cell_type": "code",
   "execution_count": 15,
   "metadata": {},
   "outputs": [
    {
     "data": {
      "text/plain": [
       "array([[0.08276682, 0.07090135, 0.00539933, 0.04096835, 0.32600441],\n",
       "       [0.14657857, 0.47218479, 0.11508515, 0.0057899 , 0.48170713],\n",
       "       [0.48528955, 0.11450493, 0.35981308, 0.0996375 , 0.2692038 ],\n",
       "       [0.32971217, 0.52410823, 0.45829868, 0.64044011, 0.30956481]])"
      ]
     },
     "execution_count": 15,
     "metadata": {},
     "output_type": "execute_result"
    }
   ],
   "source": [
    "m = mat1 * mat2\n",
    "m"
   ]
  },
  {
   "cell_type": "code",
   "execution_count": 16,
   "metadata": {},
   "outputs": [
    {
     "data": {
      "text/plain": [
       "array([[ 2.77012228,  3.34626391, 84.41980456, 13.06944256,  0.45649504],\n",
       "       [ 0.39381938,  0.64856944,  5.1276852 , 64.18303828,  1.42329291],\n",
       "       [ 1.63744169,  4.73847601,  0.37950473,  3.55452076,  0.36331825],\n",
       "       [ 0.4543404 ,  1.46197254,  0.6716138 ,  0.75134019,  0.7558015 ]])"
      ]
     },
     "execution_count": 16,
     "metadata": {},
     "output_type": "execute_result"
    }
   ],
   "source": [
    "m = mat1 / mat2\n",
    "m"
   ]
  },
  {
   "cell_type": "markdown",
   "metadata": {},
   "source": [
    "### 3.2 Matrix multiplication: @\n",
    "- size constraint must be satisfied\n",
    "- $ A(r,c) \\times B(c, d) = C(r,d) $"
   ]
  },
  {
   "cell_type": "code",
   "execution_count": 17,
   "metadata": {},
   "outputs": [
    {
     "name": "stdout",
     "output_type": "stream",
     "text": [
      "A:  (4, 5) B:  (5, 4)\n"
     ]
    }
   ],
   "source": [
    "# matrix transpose operation\n",
    "mat3 = mat2.T\n",
    "print('A: ', mat1.shape, 'B: ', mat3.shape)"
   ]
  },
  {
   "cell_type": "code",
   "execution_count": 18,
   "metadata": {},
   "outputs": [
    {
     "data": {
      "text/plain": [
       "array([[0.17285369, 0.61007987, 0.54439929, 0.85187684],\n",
       "       [0.14556171, 0.85325287, 0.15545073, 0.5987436 ],\n",
       "       [0.00799738, 0.14981281, 0.97371055, 0.82606552],\n",
       "       [0.0559881 , 0.00949786, 0.16742522, 0.92325347],\n",
       "       [0.84507198, 0.58176072, 0.86078956, 0.63998812]])"
      ]
     },
     "execution_count": 18,
     "metadata": {},
     "output_type": "execute_result"
    }
   ],
   "source": [
    "mat3"
   ]
  },
  {
   "cell_type": "code",
   "execution_count": 19,
   "metadata": {},
   "outputs": [
    {
     "data": {
      "text/plain": [
       "array([[0.52604025, 1.04025178, 1.4483572 , 2.17971316],\n",
       "       [0.86208998, 1.22134554, 1.77963117, 2.2633285 ],\n",
       "       [0.56186926, 1.41529683, 1.32844886, 2.25526377],\n",
       "       [0.6463579 , 1.35412278, 1.41949684, 2.262124  ]])"
      ]
     },
     "execution_count": 19,
     "metadata": {},
     "output_type": "execute_result"
    }
   ],
   "source": [
    "mm = mat1 @ mat3\n",
    "mm"
   ]
  },
  {
   "cell_type": "code",
   "execution_count": 20,
   "metadata": {},
   "outputs": [
    {
     "data": {
      "text/plain": [
       "(4, 4)"
      ]
     },
     "execution_count": 20,
     "metadata": {},
     "output_type": "execute_result"
    }
   ],
   "source": [
    "mm.shape"
   ]
  },
  {
   "cell_type": "code",
   "execution_count": 21,
   "metadata": {},
   "outputs": [
    {
     "data": {
      "text/plain": [
       "(array([0.47882586, 0.48708791, 0.67513717, 0.73173321, 0.38577117]),\n",
       " array([0.17285369, 0.14556171, 0.00799738, 0.0559881 , 0.84507198]))"
      ]
     },
     "execution_count": 21,
     "metadata": {},
     "output_type": "execute_result"
    }
   ],
   "source": [
    "mat1[0], mat3[:,0]"
   ]
  },
  {
   "cell_type": "code",
   "execution_count": 22,
   "metadata": {},
   "outputs": [
    {
     "name": "stdout",
     "output_type": "stream",
     "text": [
      "This value mm00: 0.5260402512057378 must be the same as mm[0,0]: 0.5260402512057378\n"
     ]
    }
   ],
   "source": [
    "mm00 = mat1[0].dot(mat3[:,0])\n",
    "print ('This value mm00: {} must be the same as mm[0,0]: {}'.format(mm00, mm[0,0]))"
   ]
  },
  {
   "cell_type": "code",
   "execution_count": 23,
   "metadata": {},
   "outputs": [
    {
     "name": "stdout",
     "output_type": "stream",
     "text": [
      "this means zeros:  0.0\n"
     ]
    }
   ],
   "source": [
    "diff = mm00 - mm[0,0]\n",
    "print ('this means zeros: ', diff)"
   ]
  },
  {
   "cell_type": "markdown",
   "metadata": {},
   "source": [
    "### 3.3 Matrix - Vector Multiplication"
   ]
  },
  {
   "cell_type": "code",
   "execution_count": 24,
   "metadata": {},
   "outputs": [
    {
     "data": {
      "text/plain": [
       "((4, 5), (5,))"
      ]
     },
     "execution_count": 24,
     "metadata": {},
     "output_type": "execute_result"
    }
   ],
   "source": [
    "mat1.shape, v1.shape"
   ]
  },
  {
   "cell_type": "markdown",
   "metadata": {},
   "source": [
    "The dimension of $v_1$ must be $5\\times1$ for the m-v multiplication"
   ]
  },
  {
   "cell_type": "code",
   "execution_count": 25,
   "metadata": {},
   "outputs": [
    {
     "data": {
      "text/plain": [
       "array([[1.],\n",
       "       [2.],\n",
       "       [3.],\n",
       "       [4.],\n",
       "       [5.]])"
      ]
     },
     "execution_count": 25,
     "metadata": {},
     "output_type": "execute_result"
    }
   ],
   "source": [
    "v5x1 = v1[:,np.newaxis]\n",
    "v5x1"
   ]
  },
  {
   "cell_type": "markdown",
   "metadata": {},
   "source": [
    "Now we can compute the multiplication as the definition says."
   ]
  },
  {
   "cell_type": "code",
   "execution_count": 26,
   "metadata": {},
   "outputs": [
    {
     "data": {
      "text/plain": [
       "array([[ 8.33420189],\n",
       "       [10.23011212],\n",
       "       [ 7.4173729 ],\n",
       "       [ 8.99535618]])"
      ]
     },
     "execution_count": 26,
     "metadata": {},
     "output_type": "execute_result"
    }
   ],
   "source": [
    "mv_5x1 = mat1 @ v5x1\n",
    "mv_5x1"
   ]
  },
  {
   "cell_type": "markdown",
   "metadata": {},
   "source": [
    "#### `Numpy` just does it without dimension extension. I don't recomment this way because it is quite confused."
   ]
  },
  {
   "cell_type": "code",
   "execution_count": 27,
   "metadata": {},
   "outputs": [
    {
     "data": {
      "text/plain": [
       "array([ 8.33420189, 10.23011212,  7.4173729 ,  8.99535618])"
      ]
     },
     "execution_count": 27,
     "metadata": {},
     "output_type": "execute_result"
    }
   ],
   "source": [
    "mv1 = mat1 @ v1\n",
    "mv1"
   ]
  },
  {
   "cell_type": "markdown",
   "metadata": {},
   "source": [
    "Notice that the two variables `mv_5x1` and `mv1` have the same values, but different dimensions."
   ]
  },
  {
   "cell_type": "code",
   "execution_count": 28,
   "metadata": {},
   "outputs": [
    {
     "data": {
      "text/plain": [
       "((4,), (4, 1))"
      ]
     },
     "execution_count": 28,
     "metadata": {},
     "output_type": "execute_result"
    }
   ],
   "source": [
    "mv1.shape, mv_5x1.shape"
   ]
  },
  {
   "cell_type": "markdown",
   "metadata": {},
   "source": [
    "#### Warning!"
   ]
  },
  {
   "cell_type": "code",
   "execution_count": 29,
   "metadata": {},
   "outputs": [
    {
     "data": {
      "text/plain": [
       "array([[ 0.        ,  1.89591023, -0.91682899,  0.66115429],\n",
       "       [-1.89591023,  0.        , -2.81273922, -1.23475594],\n",
       "       [ 0.91682899,  2.81273922,  0.        ,  1.57798328],\n",
       "       [-0.66115429,  1.23475594, -1.57798328,  0.        ]])"
      ]
     },
     "execution_count": 29,
     "metadata": {},
     "output_type": "execute_result"
    }
   ],
   "source": [
    "# simple subtraction will result in something unexpected!\n",
    "mv1 - mv_5x1"
   ]
  },
  {
   "cell_type": "markdown",
   "metadata": {},
   "source": [
    "#### Warning 2"
   ]
  },
  {
   "cell_type": "code",
   "execution_count": 30,
   "metadata": {},
   "outputs": [
    {
     "data": {
      "text/plain": [
       "array([[ 0.        , -1.89591023,  0.91682899, -0.66115429],\n",
       "       [ 1.89591023,  0.        ,  2.81273922,  1.23475594],\n",
       "       [-0.91682899, -2.81273922,  0.        , -1.57798328],\n",
       "       [ 0.66115429, -1.23475594,  1.57798328,  0.        ]])"
      ]
     },
     "execution_count": 30,
     "metadata": {},
     "output_type": "execute_result"
    }
   ],
   "source": [
    "mv_5x1 - mv1"
   ]
  },
  {
   "cell_type": "markdown",
   "metadata": {},
   "source": [
    "#### Possibly use `squeez` or `newaxis`"
   ]
  },
  {
   "cell_type": "code",
   "execution_count": 31,
   "metadata": {},
   "outputs": [
    {
     "data": {
      "text/plain": [
       "array([0., 0., 0., 0.])"
      ]
     },
     "execution_count": 31,
     "metadata": {},
     "output_type": "execute_result"
    }
   ],
   "source": [
    "# you can use squeeze\n",
    "mv_5x1_sqz = mv_5x1.squeeze(axis=1)\n",
    "mv_5x1_sqz - mv1"
   ]
  },
  {
   "cell_type": "markdown",
   "metadata": {},
   "source": [
    "## 3.4 Matrix Decompositions"
   ]
  },
  {
   "cell_type": "code",
   "execution_count": 32,
   "metadata": {},
   "outputs": [
    {
     "data": {
      "text/plain": [
       "array([[1.18764093, 1.49429756, 0.95349536],\n",
       "       [1.49429756, 1.05019041, 0.2804689 ],\n",
       "       [0.95349536, 0.2804689 , 1.11785288]])"
      ]
     },
     "execution_count": 32,
     "metadata": {},
     "output_type": "execute_result"
    }
   ],
   "source": [
    "mat = np.random.random((3,3))\n",
    "sym = mat + mat.T # make it symmetric for better understanding\n",
    "sym"
   ]
  },
  {
   "cell_type": "markdown",
   "metadata": {},
   "source": [
    "### Eigen-decomposition\n",
    "For a symmetric $n\\times n$ matrix ($A^T = A$), it can be decomposed into the multiplication:\n",
    "$$\n",
    "    A = U \\Lambda U^T\n",
    "$$\n",
    "where $U$ is an orthogonal matrix (i.e., $U U^T = I$) and $\\Lambda=diag(\\lambda_1,...,\\lambda_n)$ is a diagonal matrix. \n",
    "\n",
    "The elements $\\lambda_i$'s are called the **eigen-values** of the matrix $A$, and the column vectors of $U=[u_1,...,u_n]$ is called the **eigen-vectors** of $A$.\n",
    "\n",
    "The pair $(u_i, \\lambda_i)$ satisfies:\n",
    "$$\n",
    "    A u_i = \\lambda_i u_i\n",
    "$$\n",
    "\n",
    "If $A$ is positive-definite, then all the eigen-values are positive.\n",
    "\n",
    "The following matrices are positive definite:\n",
    "- the identity matix $I$\n",
    "- diagonal matix with positive elements $diag(1,2,3)$\n",
    "- any matrix that has positive eigen-values.\n",
    "- sample covariance matrix $$A = \\sum_{i=1}^N (x_i - m)^T (x_i - m)$$\n",
    "- a matrix of proper ellipse in $\\mathbb{R}^n$\n",
    "    $$ C = diag(1/a_1^2, 1/a_2^2, ..., 1/a_n^2), \\mbox{ for  }  x^T C x = 1$$\n",
    "    - e.g. an ellipse in 2D:\n",
    "        $ x^2 / a^2 + y^2 / b^2 = 1$"
   ]
  },
  {
   "cell_type": "markdown",
   "metadata": {},
   "source": [
    "#### Eigen decomposition with `numpy.linalg.eig()`"
   ]
  },
  {
   "cell_type": "code",
   "execution_count": 37,
   "metadata": {},
   "outputs": [
    {
     "name": "stdout",
     "output_type": "stream",
     "text": [
      "[ 3.0350474  -0.52581279  0.84644961] \n",
      " [[ 0.69151473  0.7169568  -0.08820614]\n",
      " [ 0.58121785 -0.62474261 -0.52142352]\n",
      " [ 0.42894428 -0.30930506  0.8487268 ]]\n"
     ]
    }
   ],
   "source": [
    "ev, U = np.linalg.eig (sym)\n",
    "print (ev, '\\n', U)"
   ]
  },
  {
   "cell_type": "markdown",
   "metadata": {},
   "source": [
    "orthogonality of $U$"
   ]
  },
  {
   "cell_type": "code",
   "execution_count": 39,
   "metadata": {},
   "outputs": [
    {
     "name": "stdout",
     "output_type": "stream",
     "text": [
      "[[1.00000000e+00 6.66133815e-16 1.66533454e-16]\n",
      " [6.66133815e-16 1.00000000e+00 1.11022302e-16]\n",
      " [1.66533454e-16 1.11022302e-16 1.00000000e+00]] \n",
      " [[ 1.00000000e+00 -5.55111512e-17  2.63677968e-16]\n",
      " [-5.55111512e-17  1.00000000e+00 -4.44089210e-16]\n",
      " [ 2.63677968e-16 -4.44089210e-16  1.00000000e+00]]\n"
     ]
    }
   ],
   "source": [
    "print (U.transpose() @ U, '\\n', U @ U.T)"
   ]
  },
  {
   "cell_type": "code",
   "execution_count": 42,
   "metadata": {},
   "outputs": [
    {
     "name": "stdout",
     "output_type": "stream",
     "text": [
      "[[ 1.33226763e-15  0.00000000e+00  6.66133815e-16]\n",
      " [ 0.00000000e+00 -1.11022302e-15 -2.22044605e-16]\n",
      " [ 4.44089210e-16 -2.77555756e-16  2.22044605e-16]] \n",
      " [[ 0.  0.  0.]\n",
      " [ 0. -0. -0.]\n",
      " [ 0. -0.  0.]]\n"
     ]
    }
   ],
   "source": [
    "recon = U @ np.diag (ev) @ U.T\n",
    "error = recon - sym\n",
    "print (error, '\\n', np.round(error, 7))"
   ]
  },
  {
   "cell_type": "markdown",
   "metadata": {},
   "source": [
    "### Singular Value Decomposition (SVD)"
   ]
  },
  {
   "cell_type": "code",
   "execution_count": 34,
   "metadata": {},
   "outputs": [],
   "source": [
    "u, s, vt = np.linalg.svd(mat)"
   ]
  },
  {
   "cell_type": "code",
   "execution_count": 35,
   "metadata": {},
   "outputs": [
    {
     "data": {
      "text/plain": [
       "array([4.57925592, 0.85467836, 0.72619279, 0.06873724])"
      ]
     },
     "execution_count": 35,
     "metadata": {},
     "output_type": "execute_result"
    }
   ],
   "source": [
    "s"
   ]
  },
  {
   "cell_type": "code",
   "execution_count": 36,
   "metadata": {},
   "outputs": [
    {
     "data": {
      "text/plain": [
       "array([[-3.33066907e-16, -4.44089210e-16, -1.55431223e-15,\n",
       "        -1.11022302e-16],\n",
       "       [-1.55431223e-15, -1.11022302e-16, -1.55431223e-15,\n",
       "        -3.33066907e-16],\n",
       "       [-1.55431223e-15, -2.22044605e-16, -1.55431223e-15,\n",
       "        -6.66133815e-16],\n",
       "       [-6.66133815e-16, -1.11022302e-16, -8.88178420e-16,\n",
       "        -2.22044605e-16]])"
      ]
     },
     "execution_count": 36,
     "metadata": {},
     "output_type": "execute_result"
    }
   ],
   "source": [
    "recon = u @ np.diag(s) @ vt\n",
    "recon - mat"
   ]
  },
  {
   "cell_type": "markdown",
   "metadata": {},
   "source": [
    "#### SVD for a $m\\times n$ matrix ($m > n$)"
   ]
  },
  {
   "cell_type": "code",
   "execution_count": 37,
   "metadata": {},
   "outputs": [
    {
     "data": {
      "text/plain": [
       "array([[0.28268886, 0.59747563, 0.10659661],\n",
       "       [0.28097661, 0.08493189, 0.04469242],\n",
       "       [0.13833209, 0.18742583, 0.07919509],\n",
       "       [0.64213379, 0.08752161, 0.58019476]])"
      ]
     },
     "execution_count": 37,
     "metadata": {},
     "output_type": "execute_result"
    }
   ],
   "source": [
    "mat43 = np.random.random((4,3))\n",
    "mat43"
   ]
  },
  {
   "cell_type": "code",
   "execution_count": 36,
   "metadata": {},
   "outputs": [],
   "source": [
    "u, s, vt = np.linalg.svd (mat43, full_matrices=False)"
   ]
  },
  {
   "cell_type": "code",
   "execution_count": 37,
   "metadata": {},
   "outputs": [
    {
     "data": {
      "text/plain": [
       "((4, 3), (3,), (3, 3))"
      ]
     },
     "execution_count": 37,
     "metadata": {},
     "output_type": "execute_result"
    }
   ],
   "source": [
    "u.shape, s.shape, vt.shape"
   ]
  },
  {
   "cell_type": "code",
   "execution_count": 38,
   "metadata": {},
   "outputs": [
    {
     "data": {
      "text/plain": [
       "array([[ 1.66533454e-16,  4.44089210e-16,  2.77555756e-17],\n",
       "       [-1.94289029e-16,  3.33066907e-16,  2.22044605e-16],\n",
       "       [ 1.11022302e-16, -6.93889390e-18, -5.55111512e-17],\n",
       "       [ 4.44089210e-16,  1.66533454e-16,  0.00000000e+00]])"
      ]
     },
     "execution_count": 38,
     "metadata": {},
     "output_type": "execute_result"
    }
   ],
   "source": [
    "recon = u @ np.diag(s) @ vt\n",
    "recon - mat43"
   ]
  },
  {
   "cell_type": "code",
   "execution_count": 39,
   "metadata": {},
   "outputs": [
    {
     "data": {
      "text/plain": [
       "array([[-0.35683369, -0.33065197,  0.54662544],\n",
       "       [-0.40758108, -0.76001477, -0.45863378],\n",
       "       [-0.45973424,  0.47301054, -0.59176398],\n",
       "       [-0.70369866,  0.2988442 ,  0.37506145]])"
      ]
     },
     "execution_count": 39,
     "metadata": {},
     "output_type": "execute_result"
    }
   ],
   "source": [
    "u"
   ]
  },
  {
   "cell_type": "code",
   "execution_count": 40,
   "metadata": {},
   "outputs": [
    {
     "data": {
      "text/plain": [
       "array([[ 1.00000000e+00, -1.29230700e-16, -2.22439025e-16],\n",
       "       [-1.29230700e-16,  1.00000000e+00,  6.68365100e-17],\n",
       "       [-2.22439025e-16,  6.68365100e-17,  1.00000000e+00]])"
      ]
     },
     "execution_count": 40,
     "metadata": {},
     "output_type": "execute_result"
    }
   ],
   "source": [
    "# u is a unitary (or orthogonal) matrix: the columns are orthogonal to each other, and mag = 1\n",
    "u.T @ u"
   ]
  },
  {
   "cell_type": "code",
   "execution_count": 41,
   "metadata": {},
   "outputs": [
    {
     "data": {
      "text/plain": [
       "array([[ 0.53546038,  0.14603816, -0.31582644,  0.3573081 ],\n",
       "       [ 0.14603816,  0.95408972,  0.09928693, -0.11232759],\n",
       "       [-0.31582644,  0.09928693,  0.78527915,  0.24292297],\n",
       "       [ 0.3573081 , -0.11232759,  0.24292297,  0.72517075]])"
      ]
     },
     "execution_count": 41,
     "metadata": {},
     "output_type": "execute_result"
    }
   ],
   "source": [
    "# but this is not!\n",
    "u @ u.T"
   ]
  },
  {
   "cell_type": "code",
   "execution_count": 42,
   "metadata": {},
   "outputs": [
    {
     "data": {
      "text/plain": [
       "array([[ 1.00000000e+00, -1.99243502e-16, -2.30716939e-16],\n",
       "       [-1.99243502e-16,  1.00000000e+00,  2.62264783e-17],\n",
       "       [-2.30716939e-16,  2.62264783e-17,  1.00000000e+00]])"
      ]
     },
     "execution_count": 42,
     "metadata": {},
     "output_type": "execute_result"
    }
   ],
   "source": [
    "# vt is a unitary and square matrix\n",
    "vt.T @ vt"
   ]
  },
  {
   "cell_type": "code",
   "execution_count": 43,
   "metadata": {},
   "outputs": [
    {
     "data": {
      "text/plain": [
       "array([[ 1.00000000e+00,  4.12115070e-17, -1.48279246e-16],\n",
       "       [ 4.12115070e-17,  1.00000000e+00, -1.81807205e-17],\n",
       "       [-1.48279246e-16, -1.81807205e-17,  1.00000000e+00]])"
      ]
     },
     "execution_count": 43,
     "metadata": {},
     "output_type": "execute_result"
    }
   ],
   "source": [
    "# so this too results in id. matrix\n",
    "vt @ vt.T"
   ]
  },
  {
   "cell_type": "code",
   "execution_count": 44,
   "metadata": {},
   "outputs": [
    {
     "name": "stdout",
     "output_type": "stream",
     "text": [
      "mag:  1.0\n",
      "mag:  1.0000000000000002\n",
      "mag:  1.0000000000000002\n"
     ]
    }
   ],
   "source": [
    "for i in range(vt.shape[0]):\n",
    "    print ('mag: ', np.linalg.norm(vt[i]))"
   ]
  },
  {
   "cell_type": "code",
   "execution_count": 45,
   "metadata": {},
   "outputs": [
    {
     "name": "stdout",
     "output_type": "stream",
     "text": [
      "mag:  1.0000000000000002\n",
      "mag:  1.0000000000000002\n",
      "mag:  1.0\n"
     ]
    }
   ],
   "source": [
    "for i in range(vt.T.shape[0]):\n",
    "    print ('mag: ', np.linalg.norm(vt.T[i]))"
   ]
  },
  {
   "cell_type": "markdown",
   "metadata": {},
   "source": [
    "### Determinant"
   ]
  },
  {
   "cell_type": "code",
   "execution_count": 46,
   "metadata": {},
   "outputs": [
    {
     "data": {
      "text/plain": [
       "(-1.0000000000000007, -1.0000000000000007)"
      ]
     },
     "execution_count": 46,
     "metadata": {},
     "output_type": "execute_result"
    }
   ],
   "source": [
    "np.linalg.det(vt), np.linalg.det(vt.T)"
   ]
  },
  {
   "cell_type": "markdown",
   "metadata": {},
   "source": [
    "### Inverse of non-singular square matrix"
   ]
  },
  {
   "cell_type": "code",
   "execution_count": 39,
   "metadata": {},
   "outputs": [
    {
     "name": "stdout",
     "output_type": "stream",
     "text": [
      "Invertible matrix does have non-zero determinant: -0.1953626993849616\n"
     ]
    }
   ],
   "source": [
    "print ('Invertible matrix does have non-zero determinant:', np.linalg.det( mat ) )"
   ]
  },
  {
   "cell_type": "markdown",
   "metadata": {},
   "source": [
    "#### $A^{-1} \\times A = A \\times A^{-1} = I$"
   ]
  },
  {
   "cell_type": "code",
   "execution_count": 40,
   "metadata": {},
   "outputs": [
    {
     "data": {
      "text/plain": [
       "0.9999999999999996"
      ]
     },
     "execution_count": 40,
     "metadata": {},
     "output_type": "execute_result"
    }
   ],
   "source": [
    "inv = np.linalg.inv (mat)\n",
    "ii = inv @ mat\n",
    "np.linalg.det(ii) # must be 1 since ii is identity matrix"
   ]
  },
  {
   "cell_type": "code",
   "execution_count": 41,
   "metadata": {},
   "outputs": [
    {
     "data": {
      "text/plain": [
       "array([[ 1.00000000e+00,  3.33066907e-16, -8.88178420e-16,\n",
       "        -7.77156117e-16],\n",
       "       [-1.11022302e-15,  1.00000000e+00, -1.11022302e-15,\n",
       "        -1.77635684e-15],\n",
       "       [ 2.22044605e-15, -4.44089210e-16,  1.00000000e+00,\n",
       "         8.88178420e-16],\n",
       "       [ 0.00000000e+00, -2.22044605e-16, -2.22044605e-16,\n",
       "         1.00000000e+00]])"
      ]
     },
     "execution_count": 41,
     "metadata": {},
     "output_type": "execute_result"
    }
   ],
   "source": [
    "ii"
   ]
  },
  {
   "cell_type": "code",
   "execution_count": null,
   "metadata": {},
   "outputs": [],
   "source": []
  },
  {
   "cell_type": "markdown",
   "metadata": {},
   "source": [
    "## How to draw an ellipse & Level contours of a 2D Gaussian"
   ]
  },
  {
   "cell_type": "markdown",
   "metadata": {},
   "source": [
    "The equation of an ellipse with $a^2=5^2, b^2 = 2^2$:\n",
    "$$ x^T diag(1/25, 1/4) x = 1$$"
   ]
  },
  {
   "cell_type": "code",
   "execution_count": 87,
   "metadata": {},
   "outputs": [
    {
     "name": "stdout",
     "output_type": "stream",
     "text": [
      "C =\n",
      " [[0.04 0.  ]\n",
      " [0.   0.25]]\n"
     ]
    },
    {
     "data": {
      "text/plain": [
       "<matplotlib.collections.PathCollection at 0x7f4756b28ef0>"
      ]
     },
     "execution_count": 87,
     "metadata": {},
     "output_type": "execute_result"
    },
    {
     "data": {
      "image/png": "[encoded data removed]",
      "text/plain": [
       "<Figure size 432x288 with 1 Axes>"
      ]
     },
     "metadata": {
      "needs_background": "light"
     },
     "output_type": "display_data"
    }
   ],
   "source": [
    "a, b = 5, 2\n",
    "C = np.diag([1/a**2, 1/b**2])\n",
    "print ('C =\\n', C)\n",
    "xcoord = np.array([ a*np.cos(np.rad2deg(r)) for r in range(360)])\n",
    "ycoord = np.array([ b*np.sin(np.rad2deg(r)) for r in range(360)])\n",
    "X = np.vstack((xcoord, ycoord))\n",
    "plt.scatter(X[0], X[1])"
   ]
  },
  {
   "cell_type": "markdown",
   "metadata": {},
   "source": [
    "rotate it 30 degrees"
   ]
  },
  {
   "cell_type": "code",
   "execution_count": 88,
   "metadata": {},
   "outputs": [
    {
     "data": {
      "image/png": "[encoded data removed]",
      "text/plain": [
       "<Figure size 432x288 with 1 Axes>"
      ]
     },
     "metadata": {
      "needs_background": "light"
     },
     "output_type": "display_data"
    }
   ],
   "source": [
    "r = np.deg2rad(30)\n",
    "R = np.array([ [np.cos(r), -np.sin(r)], [np.sin(r), np.cos(r)] ])\n",
    "Y = R @ X\n",
    "plt.scatter(Y[0], Y[1])\n",
    "plt.grid(True)"
   ]
  },
  {
   "cell_type": "markdown",
   "metadata": {},
   "source": [
    "now translate it"
   ]
  },
  {
   "cell_type": "code",
   "execution_count": 89,
   "metadata": {},
   "outputs": [
    {
     "data": {
      "image/png": "[encoded data removed]",
      "text/plain": [
       "<Figure size 432x288 with 1 Axes>"
      ]
     },
     "metadata": {
      "needs_background": "light"
     },
     "output_type": "display_data"
    }
   ],
   "source": [
    "translation = [7, 3] # tx=7, ty=3\n",
    "Z = Y.copy()\n",
    "for i in range(Z.shape[1]):\n",
    "    Z[:,i] += translation\n",
    "plt.scatter(Z[0], Z[1])\n",
    "plt.scatter(0,0) # origin point\n",
    "plt.grid(True)"
   ]
  },
  {
   "cell_type": "markdown",
   "metadata": {},
   "source": [
    "1. orignally, $x^T C x = 1$, where $C=diag(1/25, 1/4)$\n",
    "1. rotate it, $y = R x$. So, $x = R^T y$\n",
    "    - original equation changes to: $x^T R R^T C R R^T x = 1$\n",
    "    - we can write $y^T \\Sigma y = 1$ where $\\Sigma = R^T C R$\n",
    "1. translate it. $z = y + m =  Rx + m$, so $x = R^T(z - m)$\n",
    "    - $x^T C x = (z-m)^T R C R^T (z-m) = 1$\n",
    "    - equivalently, $(z-m)^T \\Sigma (z-m) = 1$"
   ]
  },
  {
   "cell_type": "code",
   "execution_count": 110,
   "metadata": {},
   "outputs": [
    {
     "name": "stdout",
     "output_type": "stream",
     "text": [
      "R: [[ 0.8660254 -0.5      ]\n",
      " [ 0.5        0.8660254]]\n",
      "C:  [[0.04 0.  ]\n",
      " [0.   0.25]]\n",
      "[[0.0925     0.09093267]\n",
      " [0.09093267 0.1975    ]] \n",
      " [7 3]\n"
     ]
    }
   ],
   "source": [
    "Sigma = R.T @ C @ R\n",
    "m = np.array(translation)\n",
    "print ('R:', R)\n",
    "print ('C: ',C)\n",
    "print (Sigma, '\\n', m)"
   ]
  },
  {
   "cell_type": "markdown",
   "metadata": {},
   "source": [
    "## Now, how to draw the ellipse given $\\Sigma$ and $m$?"
   ]
  },
  {
   "cell_type": "markdown",
   "metadata": {},
   "source": [
    "1. perform eigen decomposition to $\\Sigma$"
   ]
  },
  {
   "cell_type": "code",
   "execution_count": 92,
   "metadata": {},
   "outputs": [],
   "source": [
    "ev, U = np.linalg.eig(Sigma)"
   ]
  },
  {
   "cell_type": "code",
   "execution_count": 96,
   "metadata": {},
   "outputs": [
    {
     "name": "stdout",
     "output_type": "stream",
     "text": [
      "[[-0.8660254 -0.5      ]\n",
      " [ 0.5       -0.8660254]]\n"
     ]
    }
   ],
   "source": [
    "print (U)"
   ]
  },
  {
   "cell_type": "code",
   "execution_count": 99,
   "metadata": {},
   "outputs": [
    {
     "data": {
      "text/plain": [
       "array([[ 0.00000000e+00, -1.38777878e-17],\n",
       "       [-1.38777878e-17,  0.00000000e+00]])"
      ]
     },
     "execution_count": 99,
     "metadata": {},
     "output_type": "execute_result"
    }
   ],
   "source": [
    "# really correct?\n",
    "U @ np.diag(ev) @ U.T - Sigma"
   ]
  },
  {
   "cell_type": "markdown",
   "metadata": {},
   "source": [
    "Q. Thr orthogoanl matrix $U$ may not be the same as $R$. Why?"
   ]
  },
  {
   "cell_type": "code",
   "execution_count": 103,
   "metadata": {},
   "outputs": [
    {
     "name": "stdout",
     "output_type": "stream",
     "text": [
      "[0.04 0.25]\n"
     ]
    }
   ],
   "source": [
    "aa2 = ev[0]\n",
    "bb2 = ev[1]\n",
    "print(ev)"
   ]
  },
  {
   "cell_type": "code",
   "execution_count": 106,
   "metadata": {},
   "outputs": [
    {
     "data": {
      "text/plain": [
       "<matplotlib.collections.PathCollection at 0x7f475861deb8>"
      ]
     },
     "execution_count": 106,
     "metadata": {},
     "output_type": "execute_result"
    },
    {
     "data": {
      "image/png": "[encoded data removed]",
      "text/plain": [
       "<Figure size 432x288 with 1 Axes>"
      ]
     },
     "metadata": {
      "needs_background": "light"
     },
     "output_type": "display_data"
    }
   ],
   "source": [
    "aa = 1/np.sqrt(aa2)\n",
    "bb = 1/np.sqrt(bb2)\n",
    "xxcoord = np.array([ aa*np.cos(np.rad2deg(r)) for r in range(360)])\n",
    "yycoord = np.array([ bb*np.sin(np.rad2deg(r)) for r in range(360)])\n",
    "XX = np.vstack((xxcoord, yycoord))\n",
    "plt.scatter(XX[0], XX[1])"
   ]
  },
  {
   "cell_type": "markdown",
   "metadata": {},
   "source": [
    "Rotate it by $U$"
   ]
  },
  {
   "cell_type": "code",
   "execution_count": 107,
   "metadata": {},
   "outputs": [
    {
     "data": {
      "text/plain": [
       "<matplotlib.collections.PathCollection at 0x7f47579090f0>"
      ]
     },
     "execution_count": 107,
     "metadata": {},
     "output_type": "execute_result"
    },
    {
     "data": {
      "image/png": "[encoded data removed]",
      "text/plain": [
       "<Figure size 432x288 with 1 Axes>"
      ]
     },
     "metadata": {
      "needs_background": "light"
     },
     "output_type": "display_data"
    }
   ],
   "source": [
    "YY = R @ XX\n",
    "plt.scatter(YY[0], YY[1])"
   ]
  },
  {
   "cell_type": "markdown",
   "metadata": {},
   "source": [
    "Translate it by $m$"
   ]
  },
  {
   "cell_type": "code",
   "execution_count": 111,
   "metadata": {},
   "outputs": [
    {
     "data": {
      "text/plain": [
       "(2,)"
      ]
     },
     "execution_count": 111,
     "metadata": {},
     "output_type": "execute_result"
    }
   ],
   "source": [
    "m.shape"
   ]
  },
  {
   "cell_type": "code",
   "execution_count": 117,
   "metadata": {},
   "outputs": [
    {
     "data": {
      "image/png": "[encoded data removed]",
      "text/plain": [
       "<Figure size 432x288 with 1 Axes>"
      ]
     },
     "metadata": {
      "needs_background": "light"
     },
     "output_type": "display_data"
    }
   ],
   "source": [
    "#ZZ = YY + np.vstack( (m for i in range(360)) ).T\n",
    "# use the trick of numpy array broadcasting for short code length. \n",
    "# Not recommended if you are suspicious of the broadcasting mechanism.\n",
    "# Using for-loop is safe every time.\n",
    "ZZ = YY + m.reshape(2,1) \n",
    "#\n",
    "plt.scatter (ZZ[0], ZZ[1])\n",
    "plt.scatter (0,0)\n",
    "plt.grid(True)"
   ]
  },
  {
   "cell_type": "markdown",
   "metadata": {},
   "source": [
    "## 2D Gaussian with $(x-m)^T \\Sigma (x-m)$ in the exponent\n",
    "- The equi-level contour of 1-sigma is given by $(x-m)^T \\Sigma (x-m) = 1^2$\n",
    "- The equi-level contour of 2-sigam is given by $(x-m)^T \\Sigma (x-m) = 2^2$\n",
    "\n",
    "- 1D case:\n",
    "    - 1-sigma point means when $x = 1 \\sigma$, in which case $\\frac{x^2}{\\sigma^2} = \\frac{\\sigma^2}{\\sigma^2} = 1$\n",
    "    - 2-sigma point means when $x = 2\\sigma$"
   ]
  },
  {
   "cell_type": "markdown",
   "metadata": {},
   "source": [
    "## Q. Plot three contour lines (1,2,3 sigma) \n",
    "1. for the first two features (sepal length and width) of setosa in the iris dataset.\n",
    "    - First, you need to compute the sample mean and sample covariace of the data points.\n",
    "    - Then, draw three ellipses using the abovementioned method.\n",
    "2. Do the same for the two features of the other species."
   ]
  },
  {
   "cell_type": "code",
   "execution_count": 119,
   "metadata": {},
   "outputs": [
    {
     "name": "stdout",
     "output_type": "stream",
     "text": [
      "0\n",
      "1\n",
      "2\n",
      "3\n",
      "4\n"
     ]
    }
   ],
   "source": [
    "i = 0\n",
    "while i < 5:\n",
    "    print (i); i+=1"
   ]
  },
  {
   "cell_type": "markdown",
   "metadata": {},
   "source": [
    "# END"
   ]
  }
 ],
 "metadata": {
  "kernelspec": {
   "display_name": "Python 3",
   "language": "python",
   "name": "python3"
  },
  "language_info": {
   "codemirror_mode": {
    "name": "ipython",
    "version": 3
   },
   "file_extension": ".py",
   "mimetype": "text/x-python",
   "name": "python",
   "nbconvert_exporter": "python",
   "pygments_lexer": "ipython3",
   "version": "3.6.8"
  }
 },
 "nbformat": 4,
 "nbformat_minor": 4
}

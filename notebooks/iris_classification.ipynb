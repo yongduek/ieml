{
 "cells": [
  {
   "cell_type": "markdown",
   "metadata": {},
   "source": [
    "# IRIS data classification\n",
    "1. closest to the class center\n",
    "2. Full Bayes with Gaussian Model\n",
    "3. Naive Bayes with conditionally independent Gaussian"
   ]
  },
  {
   "cell_type": "code",
   "execution_count": 1,
   "metadata": {},
   "outputs": [],
   "source": [
    "%matplotlib inline"
   ]
  },
  {
   "cell_type": "markdown",
   "metadata": {},
   "source": [
    "install sklearn if not installed\n",
    "```\n",
    "!pip3 install sklearn\n",
    "```"
   ]
  },
  {
   "cell_type": "code",
   "execution_count": 2,
   "metadata": {},
   "outputs": [],
   "source": [
    "import matplotlib.pyplot as plt\n",
    "import numpy as np\n",
    "import sklearn.datasets"
   ]
  },
  {
   "cell_type": "code",
   "execution_count": 3,
   "metadata": {},
   "outputs": [
    {
     "data": {
      "text/plain": [
       "['DESCR', 'data', 'feature_names', 'filename', 'target', 'target_names']"
      ]
     },
     "execution_count": 3,
     "metadata": {},
     "output_type": "execute_result"
    }
   ],
   "source": [
    "iris = sklearn.datasets.load_iris()\n",
    "dir(iris)"
   ]
  },
  {
   "cell_type": "markdown",
   "metadata": {},
   "source": [
    "## We use the first two features in the beginning\n",
    "- Binary classification: Setosa vs The Others"
   ]
  },
  {
   "cell_type": "code",
   "execution_count": 4,
   "metadata": {},
   "outputs": [
    {
     "name": "stdout",
     "output_type": "stream",
     "text": [
      "(150, 2)\n"
     ]
    }
   ],
   "source": [
    "data = iris.data[:, :2]\n",
    "y = iris.target\n",
    "print (data.shape)"
   ]
  },
  {
   "cell_type": "code",
   "execution_count": 5,
   "metadata": {},
   "outputs": [],
   "source": [
    "sel0 = y == 0 # setosa\n",
    "sel1 = sel0 == False # the others\n",
    "groups = [sel0, sel1]\n",
    "nclasses = 2\n",
    "nfeatures = 2"
   ]
  },
  {
   "cell_type": "markdown",
   "metadata": {},
   "source": [
    "### scatter plot"
   ]
  },
  {
   "cell_type": "code",
   "execution_count": 6,
   "metadata": {},
   "outputs": [],
   "source": [
    "from matplotlib.patches import Ellipse\n",
    "\n",
    "def scatter(centers=None, covs=None, scale=None):\n",
    "    fig, ax = plt.subplots(figsize=(7,5))\n",
    "    colors = ['pink', 'skyblue']\n",
    "    for k in range (nclasses):\n",
    "        s = groups[k]\n",
    "        ax.scatter (data[s,0], data[s,1], color=colors[k])\n",
    "    ax.set_xlabel (iris.feature_names[0])\n",
    "    ax.set_ylabel (iris.feature_names[1])\n",
    "    #\n",
    "    if centers is not None:\n",
    "        center_color = ['r', 'b']\n",
    "        for k in range(nclasses):\n",
    "            ax.scatter(centers[k,0], centers[k,1], color=center_color[k], s=200, marker='*')\n",
    "    #\n",
    "    if covs is not None:\n",
    "        colors = ['r', 'b']\n",
    "        for k in range(nclasses):\n",
    "            w, v = np.linalg.eig(covs[k]) # C = V W V'\n",
    "#             print ('eig: ', w, v)\n",
    "            if w[0] < w[1]:\n",
    "                w = np.sort(w)[::-1] # \n",
    "                v = v[:, w.argsort()] # \n",
    "#                 print ('\\teig: ', w, v)\n",
    "\n",
    "            xaxis = v[:,0] # \n",
    "#             print ('xaxis: ', xaxis, '  w: ', w)\n",
    "            theta = np.arctan2(xaxis[1], xaxis[0])\n",
    "#             print ('theta: ', np.degrees(theta))\n",
    "            scale = 2 if scale is None else scale\n",
    "            el = Ellipse (centers[k], \n",
    "                          width=2*np.sqrt(w[0]*scale), # reverse x, y since the last is the greatest\n",
    "                          height=2*np.sqrt(w[1]*scale), \n",
    "                          angle=np.degrees(theta), \n",
    "                          alpha=0.3, color=colors[k])\n",
    "            ax.add_artist(el)\n",
    "    #        \n",
    "    return fig, ax"
   ]
  },
  {
   "cell_type": "code",
   "execution_count": 7,
   "metadata": {},
   "outputs": [
    {
     "data": {
      "text/plain": [
       "(<Figure size 504x360 with 1 Axes>,\n",
       " <matplotlib.axes._subplots.AxesSubplot at 0x125b286d8>)"
      ]
     },
     "execution_count": 7,
     "metadata": {},
     "output_type": "execute_result"
    },
    {
     "data": {
      "image/png": "[encoded data removed]",
      "text/plain": [
       "<Figure size 504x360 with 1 Axes>"
      ]
     },
     "metadata": {
      "needs_background": "light"
     },
     "output_type": "display_data"
    }
   ],
   "source": [
    "scatter()"
   ]
  },
  {
   "cell_type": "markdown",
   "metadata": {},
   "source": [
    "## Method 1: Closest to the cluster center"
   ]
  },
  {
   "cell_type": "markdown",
   "metadata": {},
   "source": [
    "### compute cluster centers"
   ]
  },
  {
   "cell_type": "code",
   "execution_count": 8,
   "metadata": {},
   "outputs": [
    {
     "name": "stdout",
     "output_type": "stream",
     "text": [
      "means =  [[5.006 3.428]\n",
      " [6.262 2.872]]\n"
     ]
    }
   ],
   "source": [
    "means = np.zeros ((nclasses, nfeatures))\n",
    "for k in range(nclasses):\n",
    "    means[k] = data[groups[k]].mean(axis=0)\n",
    "print ('means = ', means)"
   ]
  },
  {
   "cell_type": "code",
   "execution_count": 9,
   "metadata": {},
   "outputs": [
    {
     "data": {
      "text/plain": [
       "(<Figure size 504x360 with 1 Axes>,\n",
       " <matplotlib.axes._subplots.AxesSubplot at 0x127bbd6d8>)"
      ]
     },
     "execution_count": 9,
     "metadata": {},
     "output_type": "execute_result"
    },
    {
     "data": {
      "image/png": "[encoded data removed]",
      "text/plain": [
       "<Figure size 504x360 with 1 Axes>"
      ]
     },
     "metadata": {
      "needs_background": "light"
     },
     "output_type": "display_data"
    }
   ],
   "source": [
    "scatter(centers=means)"
   ]
  },
  {
   "cell_type": "markdown",
   "metadata": {},
   "source": [
    "### distance() and predict()"
   ]
  },
  {
   "cell_type": "code",
   "execution_count": 10,
   "metadata": {},
   "outputs": [],
   "source": [
    "def distance(xy, ab):\n",
    "    return np.sqrt( np.power(xy[0]-ab[0],2.) + np.power(xy[1]-ab[1],2.))\n",
    "#\n",
    "def closest_predict(xy):\n",
    "    d0 = distance (xy, means[0])\n",
    "    d1 = distance (xy, means[1])\n",
    "    if d0 < d1: return 0\n",
    "    else: return 1\n",
    "#"
   ]
  },
  {
   "cell_type": "markdown",
   "metadata": {},
   "source": [
    "### prediction map computation"
   ]
  },
  {
   "cell_type": "code",
   "execution_count": 11,
   "metadata": {},
   "outputs": [
    {
     "name": "stdout",
     "output_type": "stream",
     "text": [
      "xx.shape=(42,)  yy.shape=(28,)\n"
     ]
    }
   ],
   "source": [
    "step=0.1\n",
    "xx = np.arange(4.0, 8.2, step=step)\n",
    "yy = np.arange(1.8, 4.6, step=step)\n",
    "print ('xx.shape={}  yy.shape={}'.format(xx.shape, yy.shape))\n",
    "# make grid\n",
    "xgrid = np.empty((yy.shape[0], xx.shape[0]))\n",
    "ygrid = np.empty((yy.shape[0], xx.shape[0]))\n",
    "pgrid = np.empty((yy.shape[0], xx.shape[0]))\n",
    "for i in range(pgrid.shape[0]):\n",
    "    for j in range(pgrid.shape[1]):\n",
    "        ygrid[i,j] = yy[i]\n",
    "        xgrid[i,j] = xx[j]\n",
    "        pgrid[i,j] = closest_predict ((xx[j], yy[i]))\n",
    "#"
   ]
  },
  {
   "cell_type": "markdown",
   "metadata": {},
   "source": [
    "### classification map"
   ]
  },
  {
   "cell_type": "code",
   "execution_count": 12,
   "metadata": {},
   "outputs": [
    {
     "data": {
      "text/plain": [
       "Text(0.5, 1.0, 'Classification by The closest to the center point.')"
      ]
     },
     "execution_count": 12,
     "metadata": {},
     "output_type": "execute_result"
    },
    {
     "data": {
      "image/png": "[encoded data removed]",
      "text/plain": [
       "<Figure size 504x360 with 1 Axes>"
      ]
     },
     "metadata": {
      "needs_background": "light"
     },
     "output_type": "display_data"
    }
   ],
   "source": [
    "fig, ax = scatter(centers=means)\n",
    "setosa = pgrid < 1\n",
    "theothers = pgrid > 0\n",
    "ax.scatter (xgrid[setosa].ravel(), ygrid[setosa].ravel(), color='r', alpha=0.2, marker='s')\n",
    "ax.scatter (xgrid[theothers].ravel(), ygrid[theothers].ravel(), color='b', alpha=0.2, marker='s')\n",
    "ax.set_title ('Classification by The closest to the center point.')"
   ]
  },
  {
   "cell_type": "markdown",
   "metadata": {},
   "source": [
    "## Method 2: Full Gaussian modeling and closest to the center with scale"
   ]
  },
  {
   "cell_type": "markdown",
   "metadata": {},
   "source": [
    "- Naive Bayes:\n",
    "https://scikit-learn.org/stable/modules/naive_bayes.html\n",
    "- What we do below is full Bayesian"
   ]
  },
  {
   "cell_type": "markdown",
   "metadata": {},
   "source": [
    "### Sample Covariance Matrix"
   ]
  },
  {
   "cell_type": "code",
   "execution_count": 13,
   "metadata": {},
   "outputs": [],
   "source": [
    "def cov (X, mean):\n",
    "    C = np.zeros((X.shape[1], X.shape[1]))\n",
    "    for i in range(X.shape[0]):\n",
    "        z = X[i] - mean\n",
    "        a = z[:, np.newaxis]\n",
    "        C += a @ a.transpose()\n",
    "    C /= (X.shape[0] - 1) # unbiased. But -1 is not necessary when we have many data like this example.\n",
    "    return C"
   ]
  },
  {
   "cell_type": "code",
   "execution_count": 14,
   "metadata": {},
   "outputs": [
    {
     "data": {
      "text/plain": [
       "[array([[0.12424898, 0.09921633],\n",
       "        [0.09921633, 0.1436898 ]]), array([[0.43934949, 0.12215758],\n",
       "        [0.12215758, 0.11072323]])]"
      ]
     },
     "execution_count": 14,
     "metadata": {},
     "output_type": "execute_result"
    }
   ],
   "source": [
    "covs = [cov(data[groups[k]], means[k]) for k in range(nclasses) ]\n",
    "covs"
   ]
  },
  {
   "cell_type": "code",
   "execution_count": 15,
   "metadata": {},
   "outputs": [
    {
     "data": {
      "text/plain": [
       "[array([[0.12424898, 0.09921633],\n",
       "        [0.09921633, 0.1436898 ]]), array([[0.43934949, 0.12215758],\n",
       "        [0.12215758, 0.11072323]])]"
      ]
     },
     "execution_count": 15,
     "metadata": {},
     "output_type": "execute_result"
    }
   ],
   "source": [
    "# numpy funtion for covariance\n",
    "covs_np = [ np.cov( data[groups[k]].transpose() ) for k in range(nclasses) ]\n",
    "covs_np"
   ]
  },
  {
   "cell_type": "code",
   "execution_count": 16,
   "metadata": {},
   "outputs": [
    {
     "data": {
      "text/plain": [
       "(<Figure size 504x360 with 1 Axes>,\n",
       " <matplotlib.axes._subplots.AxesSubplot at 0x127d385f8>)"
      ]
     },
     "execution_count": 16,
     "metadata": {},
     "output_type": "execute_result"
    },
    {
     "data": {
      "image/png": "[encoded data removed]",
      "text/plain": [
       "<Figure size 504x360 with 1 Axes>"
      ]
     },
     "metadata": {
      "needs_background": "light"
     },
     "output_type": "display_data"
    }
   ],
   "source": [
    "scatter(centers=means, covs=covs, scale=3)"
   ]
  },
  {
   "cell_type": "markdown",
   "metadata": {},
   "source": [
    "### 2D Gaussain PDF as Conditional Likelihood Functions\n",
    "- given the class label"
   ]
  },
  {
   "cell_type": "code",
   "execution_count": 17,
   "metadata": {},
   "outputs": [],
   "source": [
    "def Gaussian2d(x, mean, cov):\n",
    "    a = np.dot( np.linalg.inv(cov), x-mean)\n",
    "    f = np.exp( np.dot(x-mean, a) / -2) / np.sqrt( (2*np.pi)**2 * np.linalg.det(cov) )\n",
    "    return f"
   ]
  },
  {
   "cell_type": "code",
   "execution_count": 18,
   "metadata": {},
   "outputs": [
    {
     "data": {
      "text/plain": [
       "0.12792515163397944"
      ]
     },
     "execution_count": 18,
     "metadata": {},
     "output_type": "execute_result"
    }
   ],
   "source": [
    "x = np.array([[4.6, 2.6]])\n",
    "Gaussian2d(x[0], means[0], covs[0])"
   ]
  },
  {
   "cell_type": "code",
   "execution_count": 19,
   "metadata": {},
   "outputs": [
    {
     "name": "stdout",
     "output_type": "stream",
     "text": [
      "Gaussian2d:  0.12792515163397936\n"
     ]
    }
   ],
   "source": [
    "# scipy function\n",
    "import scipy.stats\n",
    "gpdf2d = scipy.stats.multivariate_normal.pdf\n",
    "print('Gaussian2d: ', gpdf2d([4.6, 2.6], mean=means[0], cov=covs[0]) )"
   ]
  },
  {
   "cell_type": "markdown",
   "metadata": {},
   "source": [
    "### Prior Distribution"
   ]
  },
  {
   "cell_type": "code",
   "execution_count": 20,
   "metadata": {},
   "outputs": [
    {
     "data": {
      "text/plain": [
       "array([0.33333333, 0.66666667])"
      ]
     },
     "execution_count": 20,
     "metadata": {},
     "output_type": "execute_result"
    }
   ],
   "source": [
    "Prior = np.array([ groups[k].mean() for k in range(nclasses)])\n",
    "Prior"
   ]
  },
  {
   "cell_type": "markdown",
   "metadata": {},
   "source": [
    "### Feature space separation"
   ]
  },
  {
   "cell_type": "code",
   "execution_count": 21,
   "metadata": {},
   "outputs": [
    {
     "data": {
      "text/plain": [
       "<matplotlib.collections.PathCollection at 0x127f0aac8>"
      ]
     },
     "execution_count": 21,
     "metadata": {},
     "output_type": "execute_result"
    },
    {
     "data": {
      "image/png": "[encoded data removed]",
      "text/plain": [
       "<Figure size 504x360 with 1 Axes>"
      ]
     },
     "metadata": {
      "needs_background": "light"
     },
     "output_type": "display_data"
    }
   ],
   "source": [
    "setosa = []\n",
    "theothers = []\n",
    "\n",
    "fig, ax = scatter (centers=means, covs=covs, scale=3)\n",
    "step = 0.1\n",
    "xx = np.arange(4.1, 8.1, step=step)\n",
    "yy = np.arange(1.8, 4.6, step=step)\n",
    "for x in xx:\n",
    "    for y in yy:\n",
    "        xy = np.array([x, y])\n",
    "        g0 = Gaussian2d(xy, means[0], covs[0])\n",
    "        g1 = Gaussian2d(xy, means[1], covs[1])\n",
    "        posterior0 = g0 * Prior[0] # / evidence\n",
    "        posterior1 = g1 * Prior[1]\n",
    "        \n",
    "        if posterior0 > posterior1: # this is setosa\n",
    "            setosa.append(xy)\n",
    "#             ax.scatter(xy[0], xy[1], marker='s', alpha=0.2, color='y')\n",
    "        else:\n",
    "            theothers.append(xy)\n",
    "#             ax.scatter(xy[0], xy[1], marker='s', alpha=0.2, color='purple')\n",
    "setosa = np.array(setosa)\n",
    "theothers = np.array(theothers)\n",
    "ax.scatter(setosa[:,0], setosa[:,1], marker='s', alpha=0.2, color='y')\n",
    "ax.scatter(theothers[:,0], theothers[:,1], marker='s', alpha=0.2, color='purple')"
   ]
  },
  {
   "cell_type": "code",
   "execution_count": null,
   "metadata": {},
   "outputs": [],
   "source": []
  },
  {
   "cell_type": "markdown",
   "metadata": {},
   "source": [
    "## Method 3: Naive Bayes\n",
    "- conditional indepence assumption for the features\n",
    "$$\n",
    "    p(x_1, x_2 | C) = p(x_1 | C) p(x_2 | C)\n",
    "$$"
   ]
  },
  {
   "cell_type": "code",
   "execution_count": 22,
   "metadata": {},
   "outputs": [],
   "source": [
    "import sklearn.naive_bayes\n",
    "gnb = sklearn.naive_bayes.GaussianNB()"
   ]
  },
  {
   "cell_type": "markdown",
   "metadata": {},
   "source": [
    "### Naive Bayes fit (sklearn)"
   ]
  },
  {
   "cell_type": "code",
   "execution_count": 23,
   "metadata": {},
   "outputs": [],
   "source": [
    "gnb = gnb.fit (data, groups[0])"
   ]
  },
  {
   "cell_type": "code",
   "execution_count": 24,
   "metadata": {},
   "outputs": [
    {
     "data": {
      "text/plain": [
       "array([ True])"
      ]
     },
     "execution_count": 24,
     "metadata": {},
     "output_type": "execute_result"
    }
   ],
   "source": [
    "gnb.predict([[5.0, 3.0]])"
   ]
  },
  {
   "cell_type": "markdown",
   "metadata": {},
   "source": [
    "### grid generation for classification map"
   ]
  },
  {
   "cell_type": "code",
   "execution_count": 25,
   "metadata": {},
   "outputs": [],
   "source": [
    "xg, yg = np.meshgrid(xx, yy)"
   ]
  },
  {
   "cell_type": "code",
   "execution_count": 26,
   "metadata": {},
   "outputs": [],
   "source": [
    "grid = np.concatenate ((xg[np.newaxis,:], yg[np.newaxis,:]))"
   ]
  },
  {
   "cell_type": "code",
   "execution_count": 27,
   "metadata": {},
   "outputs": [
    {
     "data": {
      "text/plain": [
       "((28, 40), (2, 28, 40))"
      ]
     },
     "execution_count": 27,
     "metadata": {},
     "output_type": "execute_result"
    }
   ],
   "source": [
    "xg.shape, grid.shape"
   ]
  },
  {
   "cell_type": "code",
   "execution_count": 28,
   "metadata": {},
   "outputs": [
    {
     "data": {
      "text/plain": [
       "(28, 40, 2)"
      ]
     },
     "execution_count": 28,
     "metadata": {},
     "output_type": "execute_result"
    }
   ],
   "source": [
    "grid = grid.transpose((1,2,0))\n",
    "grid.shape"
   ]
  },
  {
   "cell_type": "code",
   "execution_count": 29,
   "metadata": {},
   "outputs": [
    {
     "data": {
      "text/plain": [
       "(1120, 2)"
      ]
     },
     "execution_count": 29,
     "metadata": {},
     "output_type": "execute_result"
    }
   ],
   "source": [
    "gridarr = grid.reshape(-1,2)\n",
    "gridarr.shape"
   ]
  },
  {
   "cell_type": "code",
   "execution_count": 30,
   "metadata": {},
   "outputs": [
    {
     "data": {
      "text/plain": [
       "(array([4.1, 1.8]), array([8. , 4.5]))"
      ]
     },
     "execution_count": 30,
     "metadata": {},
     "output_type": "execute_result"
    }
   ],
   "source": [
    "gridarr[0], gridarr[-1]"
   ]
  },
  {
   "cell_type": "code",
   "execution_count": 31,
   "metadata": {},
   "outputs": [],
   "source": [
    "pred = gnb.predict(gridarr)"
   ]
  },
  {
   "cell_type": "code",
   "execution_count": 32,
   "metadata": {},
   "outputs": [
    {
     "data": {
      "text/plain": [
       "0.29017857142857145"
      ]
     },
     "execution_count": 32,
     "metadata": {},
     "output_type": "execute_result"
    }
   ],
   "source": [
    "pred.sum() / pred.shape[0]"
   ]
  },
  {
   "cell_type": "code",
   "execution_count": 33,
   "metadata": {},
   "outputs": [],
   "source": [
    "setosa_gnb = gridarr[pred]\n",
    "theothers_gnb = gridarr[pred==False]"
   ]
  },
  {
   "cell_type": "code",
   "execution_count": 34,
   "metadata": {},
   "outputs": [
    {
     "data": {
      "text/plain": [
       "array([[6.262, 2.872],\n",
       "       [5.006, 3.428]])"
      ]
     },
     "execution_count": 34,
     "metadata": {},
     "output_type": "execute_result"
    }
   ],
   "source": [
    "# mean locations\n",
    "gnb.theta_"
   ]
  },
  {
   "cell_type": "code",
   "execution_count": 35,
   "metadata": {},
   "outputs": [
    {
     "data": {
      "text/plain": [
       "array([[5.006, 3.428],\n",
       "       [6.262, 2.872]])"
      ]
     },
     "execution_count": 35,
     "metadata": {},
     "output_type": "execute_result"
    }
   ],
   "source": [
    "means # our computation of the mean location"
   ]
  },
  {
   "cell_type": "code",
   "execution_count": 36,
   "metadata": {},
   "outputs": [
    {
     "data": {
      "text/plain": [
       "array([[0.434956, 0.109616],\n",
       "       [0.121764, 0.140816]])"
      ]
     },
     "execution_count": 36,
     "metadata": {},
     "output_type": "execute_result"
    }
   ],
   "source": [
    "# isotropic, diagonal. sigam is the variance of each feature per class\n",
    "gnb.sigma_"
   ]
  },
  {
   "cell_type": "code",
   "execution_count": 37,
   "metadata": {},
   "outputs": [
    {
     "data": {
      "text/plain": [
       "array([0.66666667, 0.33333333])"
      ]
     },
     "execution_count": 37,
     "metadata": {},
     "output_type": "execute_result"
    }
   ],
   "source": [
    "# class prior probabilities\n",
    "gnb.class_prior_"
   ]
  },
  {
   "cell_type": "code",
   "execution_count": 38,
   "metadata": {},
   "outputs": [
    {
     "data": {
      "text/plain": [
       "Text(0.5, 1.0, 'feature space separation by NBGaussian()')"
      ]
     },
     "execution_count": 38,
     "metadata": {},
     "output_type": "execute_result"
    },
    {
     "data": {
      "image/png": "[encoded data removed]",
      "text/plain": [
       "<Figure size 504x360 with 1 Axes>"
      ]
     },
     "metadata": {
      "needs_background": "light"
     },
     "output_type": "display_data"
    }
   ],
   "source": [
    "covs0 = [np.diag(gnb.sigma_[k]) for k in range(nclasses)]\n",
    "fig, ax = scatter (centers=gnb.theta_, covs=covs0, scale=1)\n",
    "ax.scatter(setosa_gnb[:,0], setosa_gnb[:,1], marker='s', alpha=0.2, color='y')\n",
    "ax.scatter(theothers_gnb[:,0], theothers_gnb[:,1], marker='s', alpha=0.2, color='purple')\n",
    "ax.set_title('feature space separation by NBGaussian()')"
   ]
  },
  {
   "cell_type": "markdown",
   "metadata": {},
   "source": [
    "Conclusion?\n",
    "\n",
    "Naive Bayes is not bad. Actually it seems quite good in spite of its simplicity."
   ]
  },
  {
   "cell_type": "code",
   "execution_count": null,
   "metadata": {},
   "outputs": [],
   "source": []
  },
  {
   "cell_type": "markdown",
   "metadata": {},
   "source": [
    "# EOF"
   ]
  }
 ],
 "metadata": {
  "kernelspec": {
   "display_name": "Python 3",
   "language": "python",
   "name": "python3"
  },
  "language_info": {
   "codemirror_mode": {
    "name": "ipython",
    "version": 3
   },
   "file_extension": ".py",
   "mimetype": "text/x-python",
   "name": "python",
   "nbconvert_exporter": "python",
   "pygments_lexer": "ipython3",
   "version": "3.6.8"
  }
 },
 "nbformat": 4,
 "nbformat_minor": 4
}

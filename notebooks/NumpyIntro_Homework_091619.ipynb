{
 "cells": [
  {
   "cell_type": "markdown",
   "metadata": {},
   "source": [
    "# numpy intro\n",
    "\n",
    "## Key Examples\n",
    "\n",
    "- All of the following problems are found in the text book. \n",
    "- Try to answer the questions by searching for appropriate `numpy` functions. \n",
    "- Use jupyter notebook"
   ]
  },
  {
   "cell_type": "markdown",
   "metadata": {},
   "source": [
    "## 1. What is the average height of US presidents?\n",
    "  - plot a graph of the heights for visual display through time\n",
    "  - plot a histogram of the heights to examine the distribution of heights\n",
    "  - Write a python script to find\n",
    "    1. the tallest president\n",
    "    2. the shorted president\n",
    "    3. the average of the heights\n",
    "    4. the median of the heghts"
   ]
  },
  {
   "cell_type": "code",
   "execution_count": 1,
   "metadata": {},
   "outputs": [],
   "source": [
    "%matplotlib inline\n",
    "import matplotlib.pyplot as plt"
   ]
  },
  {
   "cell_type": "code",
   "execution_count": 2,
   "metadata": {},
   "outputs": [],
   "source": [
    "import numpy as np\n",
    "import pandas as pd"
   ]
  },
  {
   "cell_type": "code",
   "execution_count": 3,
   "metadata": {},
   "outputs": [],
   "source": [
    "data = pd.read_csv('data/president_heights.csv')\n",
    "heights = np.array(data['height(cm)'])\n",
    "names = np.array(data['name'])"
   ]
  },
  {
   "cell_type": "code",
   "execution_count": 4,
   "metadata": {},
   "outputs": [
    {
     "data": {
      "text/plain": [
       "array(['George Washington', 'John Adams', 'Thomas Jefferson',\n",
       "       'James Madison', 'James Monroe', 'John Quincy Adams',\n",
       "       'Andrew Jackson', 'Martin Van Buren', 'William Henry Harrison',\n",
       "       'John Tyler', 'James K. Polk', 'Zachary Taylor',\n",
       "       'Millard Fillmore', 'Franklin Pierce', 'James Buchanan',\n",
       "       'Abraham Lincoln', 'Andrew Johnson', 'Ulysses S. Grant',\n",
       "       'Rutherford B. Hayes', 'James A. Garfield', 'Chester A. Arthur',\n",
       "       'Benjamin Harrison', 'William McKinley', 'Theodore Roosevelt',\n",
       "       'William Howard Taft', 'Woodrow Wilson', 'Warren G. Harding',\n",
       "       'Calvin Coolidge', 'Herbert Hoover', 'Franklin D. Roosevelt',\n",
       "       'Harry S. Truman', 'Dwight D. Eisenhower', 'John F. Kennedy',\n",
       "       'Lyndon B. Johnson', 'Richard Nixon', 'Gerald Ford',\n",
       "       'Jimmy Carter', 'Ronald Reagan', 'George H. W. Bush',\n",
       "       'Bill Clinton', 'George W. Bush', 'Barack Obama'], dtype=object)"
      ]
     },
     "execution_count": 4,
     "metadata": {},
     "output_type": "execute_result"
    }
   ],
   "source": [
    "names"
   ]
  },
  {
   "cell_type": "code",
   "execution_count": 5,
   "metadata": {},
   "outputs": [
    {
     "data": {
      "text/plain": [
       "'Thomas Jefferson'"
      ]
     },
     "execution_count": 5,
     "metadata": {},
     "output_type": "execute_result"
    }
   ],
   "source": [
    "data['name'][2]"
   ]
  },
  {
   "cell_type": "code",
   "execution_count": 6,
   "metadata": {},
   "outputs": [
    {
     "data": {
      "text/plain": [
       "Text(0.5, 1.0, 'Heights of Presidents through Time')"
      ]
     },
     "execution_count": 6,
     "metadata": {},
     "output_type": "execute_result"
    },
    {
     "data": {
      "image/png": "[encoded data removed]",
      "text/plain": [
       "<Figure size 432x288 with 1 Axes>"
      ]
     },
     "metadata": {
      "needs_background": "light"
     },
     "output_type": "display_data"
    }
   ],
   "source": [
    "a = np.array (data['height(cm)'])\n",
    "\n",
    "plt.bar(range(a.size), a)\n",
    "plt.title('Heights of Presidents through Time')"
   ]
  },
  {
   "cell_type": "code",
   "execution_count": 7,
   "metadata": {},
   "outputs": [],
   "source": [
    "%matplotlib inline\n",
    "import matplotlib.pyplot as plt"
   ]
  },
  {
   "cell_type": "code",
   "execution_count": 8,
   "metadata": {},
   "outputs": [
    {
     "data": {
      "image/png": "[encoded data removed]",
      "text/plain": [
       "<Figure size 432x288 with 1 Axes>"
      ]
     },
     "metadata": {
      "needs_background": "light"
     },
     "output_type": "display_data"
    }
   ],
   "source": [
    "plt.hist(heights)\n",
    "plt.title('Height Distribution of US Presidents')\n",
    "plt.xlabel('height (cm)')\n",
    "plt.ylabel('number');"
   ]
  },
  {
   "cell_type": "code",
   "execution_count": 9,
   "metadata": {},
   "outputs": [
    {
     "name": "stdout",
     "output_type": "stream",
     "text": [
      "Maximum height:     193\n"
     ]
    }
   ],
   "source": [
    "print(\"Maximum height:    \", heights.max())"
   ]
  },
  {
   "cell_type": "code",
   "execution_count": 10,
   "metadata": {},
   "outputs": [],
   "source": [
    "imax = heights.argmax()"
   ]
  },
  {
   "cell_type": "code",
   "execution_count": 11,
   "metadata": {},
   "outputs": [
    {
     "name": "stdout",
     "output_type": "stream",
     "text": [
      "The president of the tallest:  Abraham Lincoln\n"
     ]
    }
   ],
   "source": [
    "print('The president of the tallest: ', data['name'][imax] )"
   ]
  },
  {
   "cell_type": "code",
   "execution_count": 12,
   "metadata": {},
   "outputs": [
    {
     "name": "stdout",
     "output_type": "stream",
     "text": [
      "Minimum height:     163\n"
     ]
    }
   ],
   "source": [
    "print(\"Minimum height:    \", heights.min())"
   ]
  },
  {
   "cell_type": "code",
   "execution_count": 13,
   "metadata": {},
   "outputs": [],
   "source": [
    "imin = heights.argmin()"
   ]
  },
  {
   "cell_type": "code",
   "execution_count": 14,
   "metadata": {},
   "outputs": [
    {
     "name": "stdout",
     "output_type": "stream",
     "text": [
      "The president of the shortest:  James Madison\n"
     ]
    }
   ],
   "source": [
    "print ('The president of the shortest: ', data['name'][imin])"
   ]
  },
  {
   "cell_type": "code",
   "execution_count": 15,
   "metadata": {},
   "outputs": [
    {
     "name": "stdout",
     "output_type": "stream",
     "text": [
      "Average height:     6.931843442745892\n"
     ]
    }
   ],
   "source": [
    "print(\"Average height:    \", heights.std())"
   ]
  },
  {
   "cell_type": "code",
   "execution_count": 16,
   "metadata": {},
   "outputs": [
    {
     "name": "stdout",
     "output_type": "stream",
     "text": [
      "Mean height:        179.73809523809524\n"
     ]
    }
   ],
   "source": [
    "print(\"Mean height:       \", heights.mean())"
   ]
  },
  {
   "cell_type": "markdown",
   "metadata": {},
   "source": [
    "## Count the number of alphabests used in the presidents' names "
   ]
  },
  {
   "cell_type": "code",
   "execution_count": 17,
   "metadata": {},
   "outputs": [
    {
     "data": {
      "text/plain": [
       "(numpy.ndarray,\n",
       " (26,),\n",
       " dtype('int64'),\n",
       " array([0, 0, 0, 0, 0, 0, 0, 0, 0, 0, 0, 0, 0, 0, 0, 0, 0, 0, 0, 0, 0, 0,\n",
       "        0, 0, 0, 0]))"
      ]
     },
     "execution_count": 17,
     "metadata": {},
     "output_type": "execute_result"
    }
   ],
   "source": [
    "count = np.zeros(26, dtype=np.int)\n",
    "type(count), count.shape, count.dtype, count"
   ]
  },
  {
   "cell_type": "markdown",
   "metadata": {},
   "source": [
    "- Only capital letters will be used.\n",
    "- The ASCII code of 'A' is 65. Try `print(ord('A'))`\n",
    "- Therefore, the index to the array `count` is calculated by `ord(upper(c)) - 65`"
   ]
  },
  {
   "cell_type": "code",
   "execution_count": 18,
   "metadata": {},
   "outputs": [],
   "source": [
    "for name in data['name']:\n",
    "    for c in name:\n",
    "        if c == ' ': continue\n",
    "        upper = c.upper()\n",
    "        ind = ord(upper) - 65\n",
    "        count[ind] += 1"
   ]
  },
  {
   "cell_type": "code",
   "execution_count": 19,
   "metadata": {},
   "outputs": [
    {
     "data": {
      "text/plain": [
       "array([57, 12, 14, 22, 49, 10, 15, 44, 32, 15,  8, 31, 23, 51, 47,  2,  1,\n",
       "       55, 29, 19,  9,  5, 15,  1, 12,  1])"
      ]
     },
     "execution_count": 19,
     "metadata": {},
     "output_type": "execute_result"
    }
   ],
   "source": [
    "count"
   ]
  },
  {
   "cell_type": "code",
   "execution_count": 20,
   "metadata": {},
   "outputs": [
    {
     "data": {
      "text/plain": [
       "<BarContainer object of 26 artists>"
      ]
     },
     "execution_count": 20,
     "metadata": {},
     "output_type": "execute_result"
    },
    {
     "data": {
      "image/png": "[encoded data removed]",
      "text/plain": [
       "<Figure size 432x288 with 1 Axes>"
      ]
     },
     "metadata": {
      "needs_background": "light"
     },
     "output_type": "display_data"
    }
   ],
   "source": [
    "plt.bar(range(count.shape[0]), count)"
   ]
  },
  {
   "cell_type": "markdown",
   "metadata": {},
   "source": [
    "## Compute score of each president according to the values in `count`"
   ]
  },
  {
   "cell_type": "markdown",
   "metadata": {},
   "source": [
    "#### the array size must be the same as the size of presidents"
   ]
  },
  {
   "cell_type": "code",
   "execution_count": 21,
   "metadata": {},
   "outputs": [
    {
     "data": {
      "text/plain": [
       "array([0, 0, 0, 0, 0, 0, 0, 0, 0, 0, 0, 0, 0, 0, 0, 0, 0, 0, 0, 0, 0, 0,\n",
       "       0, 0, 0, 0, 0, 0, 0, 0, 0, 0, 0, 0, 0, 0, 0, 0, 0, 0, 0, 0])"
      ]
     },
     "execution_count": 21,
     "metadata": {},
     "output_type": "execute_result"
    }
   ],
   "source": [
    "score2 = np.zeros(names.shape[0], dtype=np.int)\n",
    "score2"
   ]
  },
  {
   "cell_type": "markdown",
   "metadata": {},
   "source": [
    "#### Another array to compute normalized `score3 = score2 / len(name)`"
   ]
  },
  {
   "cell_type": "code",
   "execution_count": 22,
   "metadata": {},
   "outputs": [],
   "source": [
    "score3 = np.zeros(names.shape[0])"
   ]
  },
  {
   "cell_type": "code",
   "execution_count": 23,
   "metadata": {},
   "outputs": [],
   "source": [
    "for i, name in zip(range(names.shape[0]), names):\n",
    "   # print (i,name)\n",
    "    score = 0 \n",
    "    for c in name:\n",
    "        if c == ' ': continue\n",
    "        upper = c.upper()\n",
    "        ind = ord(upper) - 65\n",
    "        score += count[ind]\n",
    "    # print (name, score, score/len(name))\n",
    "    score2[i] = score\n",
    "    score3[i] = score/len(name)"
   ]
  },
  {
   "cell_type": "code",
   "execution_count": 24,
   "metadata": {},
   "outputs": [
    {
     "data": {
      "text/plain": [
       "array([590, 345, 534, 434, 445, 464, 470, 526, 802, 323, 313, 461, 529,\n",
       "       496, 468, 562, 533, 458, 612, 545, 599, 660, 441, 663, 566, 453,\n",
       "       617, 447, 530, 692, 510, 633, 453, 554, 461, 363, 354, 547, 471,\n",
       "       351, 383, 399])"
      ]
     },
     "execution_count": 24,
     "metadata": {},
     "output_type": "execute_result"
    }
   ],
   "source": [
    "score2"
   ]
  },
  {
   "cell_type": "code",
   "execution_count": 25,
   "metadata": {},
   "outputs": [
    {
     "data": {
      "text/plain": [
       "array([34.70588235, 34.5       , 33.375     , 33.38461538, 37.08333333,\n",
       "       27.29411765, 33.57142857, 32.875     , 36.45454545, 32.3       ,\n",
       "       24.07692308, 32.92857143, 33.0625    , 33.06666667, 33.42857143,\n",
       "       37.46666667, 38.07142857, 28.625     , 32.21052632, 32.05882353,\n",
       "       35.23529412, 38.82352941, 27.5625    , 36.83333333, 29.78947368,\n",
       "       32.35714286, 36.29411765, 29.8       , 37.85714286, 32.95238095,\n",
       "       34.        , 31.65      , 30.2       , 32.58823529, 35.46153846,\n",
       "       33.        , 29.5       , 42.07692308, 27.70588235, 29.25      ,\n",
       "       27.35714286, 33.25      ])"
      ]
     },
     "execution_count": 25,
     "metadata": {},
     "output_type": "execute_result"
    }
   ],
   "source": [
    "score3"
   ]
  },
  {
   "cell_type": "code",
   "execution_count": 26,
   "metadata": {},
   "outputs": [
    {
     "data": {
      "text/plain": [
       "<BarContainer object of 42 artists>"
      ]
     },
     "execution_count": 26,
     "metadata": {},
     "output_type": "execute_result"
    },
    {
     "data": {
      "image/png": "[encoded data removed]",
      "text/plain": [
       "<Figure size 432x288 with 1 Axes>"
      ]
     },
     "metadata": {
      "needs_background": "light"
     },
     "output_type": "display_data"
    }
   ],
   "source": [
    "plt.bar(range(score2.shape[0]), score2)"
   ]
  },
  {
   "cell_type": "code",
   "execution_count": 27,
   "metadata": {},
   "outputs": [
    {
     "data": {
      "text/plain": [
       "<BarContainer object of 42 artists>"
      ]
     },
     "execution_count": 27,
     "metadata": {},
     "output_type": "execute_result"
    },
    {
     "data": {
      "image/png": "[encoded data removed]",
      "text/plain": [
       "<Figure size 432x288 with 1 Axes>"
      ]
     },
     "metadata": {
      "needs_background": "light"
     },
     "output_type": "display_data"
    }
   ],
   "source": [
    "plt.bar(range(score3.shape[0]), score3)"
   ]
  },
  {
   "cell_type": "code",
   "execution_count": 28,
   "metadata": {},
   "outputs": [],
   "source": [
    "imax3 = score3.argmax()"
   ]
  },
  {
   "cell_type": "code",
   "execution_count": 29,
   "metadata": {},
   "outputs": [
    {
     "name": "stdout",
     "output_type": "stream",
     "text": [
      "The president of the highest normalized score is  Ronald Reagan\n"
     ]
    }
   ],
   "source": [
    "print ('The president of the highest normalized score is ', names[imax3])"
   ]
  },
  {
   "cell_type": "markdown",
   "metadata": {},
   "source": [
    "# Compute the score of my name\n",
    "1. using the routines above, make a function that returns the score: `def get_score3 (name)`\n",
    "2. test the function with `'Ronald Reagan'` and see if the score is the same as `score3[imax3]`\n",
    "    - try other names too for sure to check the correctness of your function\n",
    "3. try your name"
   ]
  },
  {
   "cell_type": "code",
   "execution_count": 30,
   "metadata": {},
   "outputs": [],
   "source": [
    "def get_score3 (name):\n",
    "    score = 0\n",
    "    # your code here\n",
    "    # -----\n",
    "    \n",
    "    # -----\n",
    "    return score\n",
    "#"
   ]
  },
  {
   "cell_type": "code",
   "execution_count": null,
   "metadata": {},
   "outputs": [],
   "source": []
  }
 ],
 "metadata": {
  "kernelspec": {
   "display_name": "Python 3",
   "language": "python",
   "name": "python3"
  },
  "language_info": {
   "codemirror_mode": {
    "name": "ipython",
    "version": 3
   },
   "file_extension": ".py",
   "mimetype": "text/x-python",
   "name": "python",
   "nbconvert_exporter": "python",
   "pygments_lexer": "ipython3",
   "version": "3.6.8"
  }
 },
 "nbformat": 4,
 "nbformat_minor": 2
}
